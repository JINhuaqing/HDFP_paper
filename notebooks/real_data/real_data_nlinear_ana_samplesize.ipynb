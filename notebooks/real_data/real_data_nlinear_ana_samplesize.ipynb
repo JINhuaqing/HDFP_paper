{
 "cells": [
  {
   "cell_type": "markdown",
   "id": "faf0a805",
   "metadata": {},
   "source": [
    "This file is to very the ability of the method to calculate the sample size \n",
    "given H0 and H1. \n",
    "\n"
   ]
  },
  {
   "cell_type": "code",
   "execution_count": 1,
   "id": "82a6d485-1175-46a4-a95b-a18e7f97e41d",
   "metadata": {
    "execution": {
     "iopub.execute_input": "2024-04-30T07:08:14.177733Z",
     "iopub.status.busy": "2024-04-30T07:08:14.177150Z",
     "iopub.status.idle": "2024-04-30T07:08:14.206477Z",
     "shell.execute_reply": "2024-04-30T07:08:14.203359Z",
     "shell.execute_reply.started": "2024-04-30T07:08:14.177691Z"
    },
    "tags": []
   },
   "outputs": [
    {
     "data": {
      "text/plain": [
       "['AD88_matlab_1-45.pkl', 'Ctrl92_matlab_1-45.pkl']"
      ]
     },
     "execution_count": 1,
     "metadata": {},
     "output_type": "execute_result"
    }
   ],
   "source": [
    "RUN_PYTHON_SCRIPT = False\n",
    "#OUTLIER_IDXS = dict(AD=[], ctrl=[])\n",
    "OUTLIER_IDXS = dict(AD=[49], ctrl=[14, 19, 30, 38])\n",
    "SAVED_FOLDER = \"real_data_nlinear_nostd\"\n",
    "DATA = [\"AD88_matlab_1-45.pkl\", \"Ctrl92_matlab_1-45.pkl\"]"
   ]
  },
  {
   "cell_type": "code",
   "execution_count": null,
   "id": "02fcea62",
   "metadata": {},
   "outputs": [],
   "source": []
  },
  {
   "cell_type": "code",
   "execution_count": 2,
   "id": "02ae980e",
   "metadata": {
    "ExecuteTime": {
     "end_time": "2023-05-31T19:57:23.490285Z",
     "start_time": "2023-05-31T19:57:23.481769Z"
    },
    "execution": {
     "iopub.execute_input": "2024-04-30T07:08:14.210049Z",
     "iopub.status.busy": "2024-04-30T07:08:14.209548Z",
     "iopub.status.idle": "2024-04-30T07:08:14.289136Z",
     "shell.execute_reply": "2024-04-30T07:08:14.287954Z",
     "shell.execute_reply.started": "2024-04-30T07:08:14.210008Z"
    },
    "tags": []
   },
   "outputs": [],
   "source": [
    "import sys\n",
    "sys.path.append(\"./mypkg\")\n"
   ]
  },
  {
   "cell_type": "code",
   "execution_count": 3,
   "id": "023df78a",
   "metadata": {
    "ExecuteTime": {
     "end_time": "2023-05-31T19:57:34.238839Z",
     "start_time": "2023-05-31T19:57:23.494053Z"
    },
    "execution": {
     "iopub.execute_input": "2024-04-30T07:08:14.291201Z",
     "iopub.status.busy": "2024-04-30T07:08:14.290576Z",
     "iopub.status.idle": "2024-04-30T07:08:34.770338Z",
     "shell.execute_reply": "2024-04-30T07:08:34.769375Z",
     "shell.execute_reply.started": "2024-04-30T07:08:14.291159Z"
    },
    "tags": []
   },
   "outputs": [],
   "source": [
    "import numpy as np\n",
    "import pandas as pd\n",
    "import torch\n",
    "import matplotlib.pyplot as plt\n",
    "import seaborn as sns\n",
    "from scipy.stats import pearsonr\n",
    "from numbers import Number\n",
    "import itertools\n",
    "\n",
    "from easydict import EasyDict as edict\n",
    "from tqdm import trange, tqdm\n",
    "from scipy.io import loadmat\n",
    "from pprint import pprint\n",
    "from IPython.display import display\n",
    "from joblib import Parallel, delayed"
   ]
  },
  {
   "cell_type": "code",
   "execution_count": 4,
   "id": "0876ed62-33a8-4f7a-8227-0f2399eb31bc",
   "metadata": {
    "execution": {
     "iopub.execute_input": "2024-04-30T07:08:34.775152Z",
     "iopub.status.busy": "2024-04-30T07:08:34.774781Z",
     "iopub.status.idle": "2024-04-30T07:08:34.840216Z",
     "shell.execute_reply": "2024-04-30T07:08:34.839527Z",
     "shell.execute_reply.started": "2024-04-30T07:08:34.775123Z"
    },
    "tags": []
   },
   "outputs": [],
   "source": [
    "# This will reload all imports as soon as the code changes\n",
    "%load_ext autoreload\n",
    "%autoreload 2"
   ]
  },
  {
   "cell_type": "code",
   "execution_count": 5,
   "id": "b0aa91b2",
   "metadata": {
    "ExecuteTime": {
     "end_time": "2023-05-31T19:57:59.558229Z",
     "start_time": "2023-05-31T19:57:34.292612Z"
    },
    "execution": {
     "iopub.execute_input": "2024-04-30T07:08:34.841013Z",
     "iopub.status.busy": "2024-04-30T07:08:34.840822Z",
     "iopub.status.idle": "2024-04-30T07:08:35.016940Z",
     "shell.execute_reply": "2024-04-30T07:08:35.015688Z",
     "shell.execute_reply.started": "2024-04-30T07:08:34.840997Z"
    },
    "tags": []
   },
   "outputs": [],
   "source": [
    "from constants import DATA_ROOT, RES_ROOT, FIG_ROOT, MIDRES_ROOT\n",
    "from hdf_utils.likelihood import obt_lin_tm\n",
    "from utils.misc import save_pkl, load_pkl"
   ]
  },
  {
   "cell_type": "code",
   "execution_count": 6,
   "id": "fe0a4a46",
   "metadata": {
    "ExecuteTime": {
     "end_time": "2023-05-31T19:57:59.621784Z",
     "start_time": "2023-05-31T19:57:59.568097Z"
    },
    "execution": {
     "iopub.execute_input": "2024-04-30T07:08:35.019141Z",
     "iopub.status.busy": "2024-04-30T07:08:35.018372Z",
     "iopub.status.idle": "2024-04-30T07:08:35.071036Z",
     "shell.execute_reply": "2024-04-30T07:08:35.070382Z",
     "shell.execute_reply.started": "2024-04-30T07:08:35.019097Z"
    },
    "tags": []
   },
   "outputs": [],
   "source": [
    "plt.style.use(FIG_ROOT/\"base.mplstyle\")"
   ]
  },
  {
   "cell_type": "code",
   "execution_count": 7,
   "id": "fdddf8a6",
   "metadata": {
    "ExecuteTime": {
     "end_time": "2023-05-31T19:57:59.637665Z",
     "start_time": "2023-05-31T19:57:59.633997Z"
    },
    "execution": {
     "iopub.execute_input": "2024-04-30T07:08:35.072269Z",
     "iopub.status.busy": "2024-04-30T07:08:35.071924Z",
     "iopub.status.idle": "2024-04-30T07:08:35.097875Z",
     "shell.execute_reply": "2024-04-30T07:08:35.097345Z",
     "shell.execute_reply.started": "2024-04-30T07:08:35.072248Z"
    },
    "tags": []
   },
   "outputs": [
    {
     "data": {
      "text/plain": [
       "torch.float64"
      ]
     },
     "execution_count": 7,
     "metadata": {},
     "output_type": "execute_result"
    }
   ],
   "source": [
    "torch.set_default_dtype(torch.double)\n",
    "def_dtype = torch.get_default_dtype()"
   ]
  },
  {
   "cell_type": "code",
   "execution_count": null,
   "id": "2e0b5869-536a-4b5d-9bab-97c3f86fa9cc",
   "metadata": {},
   "outputs": [],
   "source": []
  },
  {
   "cell_type": "markdown",
   "id": "0586bc78-3241-4e7e-a87d-0ea5486aca68",
   "metadata": {},
   "source": [
    "# Load  data and prepare"
   ]
  },
  {
   "cell_type": "code",
   "execution_count": 8,
   "id": "8783e6db-bd0f-4e6f-b65a-53c47bbf1eb4",
   "metadata": {
    "execution": {
     "iopub.execute_input": "2024-04-30T07:08:35.098811Z",
     "iopub.status.busy": "2024-04-30T07:08:35.098551Z",
     "iopub.status.idle": "2024-04-30T07:08:35.696107Z",
     "shell.execute_reply": "2024-04-30T07:08:35.694741Z",
     "shell.execute_reply.started": "2024-04-30T07:08:35.098797Z"
    },
    "tags": []
   },
   "outputs": [
    {
     "name": "stdout",
     "output_type": "stream",
     "text": [
      "Load file /data/rajlab1/user_data/jin/MyResearch/HDFP_dev/mypkg/../data/AD_vs_Ctrl_PSD/AD88_matlab_1-45.pkl\n",
      "Load file /data/rajlab1/user_data/jin/MyResearch/HDFP_dev/mypkg/../data/AD_vs_Ctrl_PSD/Ctrl92_matlab_1-45.pkl\n"
     ]
    }
   ],
   "source": [
    "data_root = DATA_ROOT/\"AD_vs_Ctrl_PSD/\";\n",
    "AD_PSD = load_pkl(data_root/DATA[0]);\n",
    "ctrl_PSD = load_pkl(data_root/DATA[1]);\n",
    "df0= pd.read_csv(data_root/\"AllDataBaselineOrdered_r_ncpt.csv\");\n",
    "df1= pd.read_csv(data_root/\"AllDataBaselineOrdered_r_ncpt_more.csv\");\n",
    "df1 = df1.set_index(\"RID\")\n",
    "df0 = df0.set_index(\"RID\");\n",
    "df1 = df1.reindex(df0.index)\n",
    "baseline = df1\n",
    "baseline[\"Gender_binary\"] = baseline[\"Gender\"].apply(lambda x: 0 if x==\"female\" else 1);\n",
    "baseline[\"Grp_binary\"] = baseline[\"Grp\"].apply(lambda x: 1 if x==\"AD\" else 0);"
   ]
  },
  {
   "cell_type": "code",
   "execution_count": 9,
   "id": "66c4dba4-3bcf-49d1-86d6-96f1cd205ffe",
   "metadata": {
    "execution": {
     "iopub.execute_input": "2024-04-30T07:08:35.698660Z",
     "iopub.status.busy": "2024-04-30T07:08:35.697750Z",
     "iopub.status.idle": "2024-04-30T07:08:35.894962Z",
     "shell.execute_reply": "2024-04-30T07:08:35.893583Z",
     "shell.execute_reply.started": "2024-04-30T07:08:35.698613Z"
    },
    "tags": []
   },
   "outputs": [
    {
     "name": "stdout",
     "output_type": "stream",
     "text": [
      "(143, 68, 74) (143,) (143, 4)\n"
     ]
    }
   ],
   "source": [
    "# The outlier idxs to rm\n",
    "outlier_idxs = np.concatenate([OUTLIER_IDXS[\"AD\"], len(AD_PSD.PSDs)+np.array(OUTLIER_IDXS[\"ctrl\"])])\n",
    "outlier_idxs = outlier_idxs.astype(int)\n",
    "\n",
    "# make PSD in dB and std \n",
    "raw_X = np.concatenate([AD_PSD.PSDs, ctrl_PSD.PSDs]); #n x d x npts\n",
    "X_dB = 10*np.log10(raw_X);\n",
    "outlier_idxs2 = np.where(X_dB.mean(axis=(1, 2))<0)\n",
    "#X = (X_dB - X_dB.mean(axis=-1, keepdims=1))/X_dB.std(axis=-1, keepdims=1);\n",
    "X = X_dB\n",
    "\n",
    "Y = np.array(baseline[\"MMSE\"])[:X.shape[0]];\n",
    "# if logi\n",
    "Yb = np.array(baseline[\"Grp_binary\"])[:X.shape[0]];\n",
    "\n",
    "sel_cov = [\"Gender_binary\", \"MEG_Age\",\"Education\"]\n",
    "Z_raw = np.array(baseline[sel_cov])[:X.shape[0]];\n",
    "\n",
    "grp_idxs = np.array(baseline[\"Grp\"])[:X.shape[0]];\n",
    "\n",
    "\n",
    "outlier_idxs = np.sort(np.union1d(outlier_idxs, outlier_idxs2))\n",
    "\n",
    "\n",
    "# remove outliers\n",
    "X = np.delete(X, outlier_idxs, axis=0)\n",
    "Y = np.delete(Y, outlier_idxs, axis=0)\n",
    "Yb = np.delete(Yb, outlier_idxs, axis=0)\n",
    "Z_raw = np.delete(Z_raw, outlier_idxs, axis=0)\n",
    "grp_idxs = np.delete(grp_idxs, outlier_idxs, axis=0)\n",
    "\n",
    "\n",
    "#remove nan\n",
    "keep_idx = ~np.bitwise_or(np.isnan(Y), np.isnan(Z_raw.sum(axis=1)));\n",
    "X = X[keep_idx];\n",
    "Y = Y[keep_idx]\n",
    "Yb = Yb[keep_idx]\n",
    "Z_raw = Z_raw[keep_idx]\n",
    "grp_idxs = grp_idxs[keep_idx]\n",
    "\n",
    "Z = np.concatenate([np.ones((Z_raw.shape[0], 1)), Z_raw], axis=1); # add intercept\n",
    "\n",
    "\n",
    "freqs = AD_PSD.freqs;\n",
    "# only take PSD between [2, 35] freqs of interest\n",
    "X = X[:, :, np.bitwise_and(freqs>=2, freqs<=35)]\n",
    "X = X/X.mean()\n",
    "\n",
    "\n",
    "print(X.shape, Y.shape, Z.shape)\n",
    "\n",
    "all_data = edict()\n",
    "if SAVED_FOLDER.endswith(\"X1err\"):\n",
    "    all_data.X = torch.tensor(X+np.random.randn(*X.shape)*0.1)\n",
    "else:\n",
    "    all_data.X = torch.tensor(X)\n",
    "all_data.Y = torch.tensor(Y)\n",
    "all_data.Z = torch.tensor(Z)\n"
   ]
  },
  {
   "cell_type": "code",
   "execution_count": 10,
   "id": "7b54af63-0050-48ae-b05f-3ba18c128089",
   "metadata": {
    "execution": {
     "iopub.execute_input": "2024-04-30T07:08:35.897311Z",
     "iopub.status.busy": "2024-04-30T07:08:35.896739Z",
     "iopub.status.idle": "2024-04-30T07:08:35.985008Z",
     "shell.execute_reply": "2024-04-30T07:08:35.983899Z",
     "shell.execute_reply.started": "2024-04-30T07:08:35.897269Z"
    },
    "tags": []
   },
   "outputs": [],
   "source": [
    "# atlas\n",
    "rois = np.loadtxt(DATA_ROOT/\"dk68_utils/ROI_order_DK68.txt\", dtype=str);"
   ]
  },
  {
   "cell_type": "code",
   "execution_count": 11,
   "id": "0e33d385-2333-4803-a8af-906529dc06d3",
   "metadata": {
    "execution": {
     "iopub.execute_input": "2024-04-30T07:08:35.987175Z",
     "iopub.status.busy": "2024-04-30T07:08:35.986536Z",
     "iopub.status.idle": "2024-04-30T07:08:36.023913Z",
     "shell.execute_reply": "2024-04-30T07:08:36.023205Z",
     "shell.execute_reply.started": "2024-04-30T07:08:35.987131Z"
    },
    "tags": []
   },
   "outputs": [],
   "source": [
    "rois_clean =  \"\"\"\n",
    "Bankssts,\n",
    "Caudal anterior cingulate,\n",
    "Caudal middle frontal,\n",
    "Cuneus,\n",
    "Entorhinal,\n",
    "Frontal pole,\n",
    "Fusiform,\n",
    "Inferior parietal,\n",
    "Inferior temporal,\n",
    "Insula,\n",
    "Isthmus cingulate,\n",
    "Lateral occipital,\n",
    "Lateral orbitofrontal,\n",
    "Lingual,\n",
    "Medial orbitofrontal,\n",
    "Middle temporal,\n",
    "Paracentral,\n",
    "Parahippocampal,\n",
    "Pars opercularis,\n",
    "Pars orbitalis,\n",
    "Pars triangularis,\n",
    "Pericalcarine,\n",
    "Postcentral,\n",
    "Posterior cingulate,\n",
    "Precentral,\n",
    "Precuneus,\n",
    "Rostral anterior cingulate,\n",
    "Rostral middle frontal,\n",
    "Superior frontal,\n",
    "Superior Parietal,\n",
    "Superior temporal,\n",
    "Supramarginal,\n",
    "Temporal pole,\n",
    "Transverse temporal\n",
    "\"\"\"\n",
    "rois_clean_hf = [roi.strip() for roi in rois_clean.split(\",\")];\n",
    "rois_clean = [\"Left \" + roi.lower() for roi in rois_clean_hf] + [\"Right \" + roi.lower() for roi in rois_clean_hf];"
   ]
  },
  {
   "cell_type": "code",
   "execution_count": null,
   "id": "d0af2f35",
   "metadata": {},
   "outputs": [],
   "source": []
  },
  {
   "cell_type": "markdown",
   "id": "dd9c6514",
   "metadata": {},
   "source": [
    "# Param and fns"
   ]
  },
  {
   "cell_type": "markdown",
   "id": "21e4ccea",
   "metadata": {},
   "source": [
    "## Params"
   ]
  },
  {
   "cell_type": "code",
   "execution_count": 12,
   "id": "a8625c48-b6cc-4bc3-a631-edfaa63a36b3",
   "metadata": {
    "execution": {
     "iopub.execute_input": "2024-04-30T07:08:36.025546Z",
     "iopub.status.busy": "2024-04-30T07:08:36.025243Z",
     "iopub.status.idle": "2024-04-30T07:08:36.116513Z",
     "shell.execute_reply": "2024-04-30T07:08:36.115232Z",
     "shell.execute_reply.started": "2024-04-30T07:08:36.025524Z"
    },
    "tags": []
   },
   "outputs": [],
   "source": [
    "from easydict import EasyDict as edict\n",
    "from hdf_utils.fns_sinica import coef_fn, fourier_basis_fn\n",
    "from copy import deepcopy\n",
    "from scenarios.base_params import get_base_params\n",
    "\n",
    "base_params = get_base_params(\"linear\") \n",
    "base_params.data_params = edict()\n",
    "base_params.data_params.d = all_data.X.shape[1]\n",
    "base_params.data_params.n = all_data.X.shape[0]\n",
    "base_params.data_params.npts = all_data.X.shape[-1]\n",
    "base_params.data_params.freqs = AD_PSD.freqs[np.bitwise_and(freqs>=2, freqs<=35)]\n",
    "\n",
    "base_params.can_Ns = [4, 6, 8, 10, 12]\n",
    "base_params.SIS_params = edict({\"SIS_pen\": 0.02, \"SIS_basis_N\":8, \"SIS_ws\":\"simpson\"})\n",
    "base_params.opt_params.beta = 10 \n",
    "base_params.can_lams = [0.60,  0.80,  1,  1.2, 1.4, 1.6, 2.0, 4.0]\n",
    "\n",
    "\n",
    "setting = edict(deepcopy(base_params))\n",
    "add_params = edict({})\n",
    "add_params.setting = \"real_data_linear\"\n",
    "add_params.SIS_ratio = 1\n",
    "setting.update(add_params)"
   ]
  },
  {
   "cell_type": "code",
   "execution_count": 13,
   "id": "eb75e803-3ee6-4aba-9b42-73aed17a0387",
   "metadata": {
    "execution": {
     "iopub.execute_input": "2024-04-30T07:08:37.563620Z",
     "iopub.status.busy": "2024-04-30T07:08:37.563037Z",
     "iopub.status.idle": "2024-04-30T07:08:37.609017Z",
     "shell.execute_reply": "2024-04-30T07:08:37.608248Z",
     "shell.execute_reply.started": "2024-04-30T07:08:37.563572Z"
    },
    "tags": []
   },
   "outputs": [],
   "source": [
    "save_dir = RES_ROOT/SAVED_FOLDER\n",
    "if not save_dir.exists():\n",
    "    save_dir.mkdir()"
   ]
  },
  {
   "cell_type": "code",
   "execution_count": 14,
   "id": "60d582e7-e095-48b2-aee9-fa5ddad441d2",
   "metadata": {
    "execution": {
     "iopub.execute_input": "2024-04-30T07:08:37.970521Z",
     "iopub.status.busy": "2024-04-30T07:08:37.969974Z",
     "iopub.status.idle": "2024-04-30T07:08:38.011537Z",
     "shell.execute_reply": "2024-04-30T07:08:38.010849Z",
     "shell.execute_reply.started": "2024-04-30T07:08:37.970477Z"
    },
    "tags": []
   },
   "outputs": [
    {
     "data": {
      "text/plain": [
       "array([ 4, 13, 22, 73])"
      ]
     },
     "execution_count": 14,
     "metadata": {},
     "output_type": "execute_result"
    }
   ],
   "source": [
    "bands_cut = edict()\n",
    "bands_cut.delta = [2, 4]\n",
    "bands_cut.theta = [4, 8]\n",
    "bands_cut.alpha = [8, 12]\n",
    "bands_cut.beta = [12, 35]\n",
    "bands_cut.pts = [4, 8, 12, 35]\n",
    "\n",
    "freqs0 = freqs[np.bitwise_and(freqs>=2, freqs<=35)]\n",
    "\n",
    "cut_pts = np.abs(freqs0.reshape(-1, 1) - bands_cut.pts).argmin(axis=0)"
   ]
  },
  {
   "cell_type": "markdown",
   "id": "235046cf-869d-4e69-9d28-a7ce00462eb4",
   "metadata": {},
   "source": [
    "# Analysis"
   ]
  },
  {
   "cell_type": "code",
   "execution_count": 15,
   "id": "7eed2cb7-6ede-4f9a-9659-bb299fbebe68",
   "metadata": {
    "execution": {
     "iopub.execute_input": "2024-04-30T07:08:39.083775Z",
     "iopub.status.busy": "2024-04-30T07:08:39.083205Z",
     "iopub.status.idle": "2024-04-30T07:08:42.710788Z",
     "shell.execute_reply": "2024-04-30T07:08:42.709336Z",
     "shell.execute_reply.started": "2024-04-30T07:08:39.083729Z"
    },
    "tags": []
   },
   "outputs": [],
   "source": [
    "import matplotlib.patches as mpatches\n",
    "from nilearn import plotting\n",
    "import matplotlib as mpl\n",
    "from utils.brain_plot import get_bg_data"
   ]
  },
  {
   "cell_type": "code",
   "execution_count": 16,
   "id": "c0c30e8e-d8d1-4b51-a61e-9b8d9631b1fa",
   "metadata": {
    "execution": {
     "iopub.execute_input": "2024-04-30T07:08:42.713499Z",
     "iopub.status.busy": "2024-04-30T07:08:42.712872Z",
     "iopub.status.idle": "2024-04-30T07:08:42.749547Z",
     "shell.execute_reply": "2024-04-30T07:08:42.748938Z",
     "shell.execute_reply.started": "2024-04-30T07:08:42.713460Z"
    },
    "tags": []
   },
   "outputs": [],
   "source": [
    "def _get_sig_bds(lows, ups):\n",
    "    \"\"\"Get sig bds based on lows and ups CI bds\n",
    "    \"\"\"\n",
    "    insig_idxs = np.bitwise_and(lows<=0, ups>=0)\n",
    "    insig_idxs_num = np.where(insig_idxs)[0]\n",
    "    idxs = np.where(np.diff(insig_idxs_num)>1)[0]\n",
    "    bds = [(insig_idxs_num[ix], insig_idxs_num[ix+1]) for ix in idxs]\n",
    "    if insig_idxs_num[0] > 0:\n",
    "        bds.append((0, insig_idxs_num[0]))\n",
    "    if insig_idxs_num[-1] < (len(ups)-1):\n",
    "        bds.append((insig_idxs_num[-1], len(ups)-1))\n",
    "    bds = sorted(bds, key=lambda x: x[0])\n",
    "    return bds"
   ]
  },
  {
   "cell_type": "code",
   "execution_count": 17,
   "id": "d5cc2fcf-12b2-4c6d-8eec-201f0cdb253a",
   "metadata": {
    "execution": {
     "iopub.execute_input": "2024-04-30T07:08:43.275494Z",
     "iopub.status.busy": "2024-04-30T07:08:43.274944Z",
     "iopub.status.idle": "2024-04-30T07:08:43.321976Z",
     "shell.execute_reply": "2024-04-30T07:08:43.321156Z",
     "shell.execute_reply.started": "2024-04-30T07:08:43.275449Z"
    },
    "tags": []
   },
   "outputs": [],
   "source": [
    "\n",
    "def _brain_plot(vec, cmap=\"Reds\", threshold=None):\n",
    "    root = DATA_ROOT/\"dk68_utils/\"\n",
    "    h = 0.43\n",
    "    \n",
    "    XYZsl = np.loadtxt(root/\"MyBrainMesh_ICBM152_surf_sm20_XYZs_left.txt\")\n",
    "    facesl = np.loadtxt(root/\"MyBrainMesh_ICBM152_surf_sm20_faces_left.txt\").astype(np.int64)\n",
    "    roi_tmpl = np.loadtxt(root/\"brain_tmp_left_DK68.txt\");\n",
    "    bg_datal = get_bg_data(XYZsl, facesl)\n",
    "    \n",
    "    XYZsr = np.loadtxt(root/\"MyBrainMesh_ICBM152_surf_sm20_XYZs_right.txt\")\n",
    "    facesr = np.loadtxt(root/\"MyBrainMesh_ICBM152_surf_sm20_faces_right.txt\").astype(np.int64)\n",
    "    roi_tmpr = np.loadtxt(root/\"brain_tmp_right_DK68.txt\");\n",
    "    bg_datar = get_bg_data(XYZsr, facesr)\n",
    "    \n",
    "    # map vec to the template\n",
    "    vecl = roi_tmpl.copy()\n",
    "    vecr = roi_tmpr.copy()\n",
    "    for roi_ix in range(1, 35):\n",
    "        vecl[roi_tmpl==roi_ix] = vec[roi_ix-1]\n",
    "        vecr[roi_tmpr==roi_ix] = vec[roi_ix-1+34]\n",
    "        \n",
    "    vmin, vmax = np.min(vec), np.max(vec)\n",
    "    #fig, axs = plt.subplots(2, 2, figsize=[10, 10], subplot_kw={'projection': '3d'})\n",
    "    fig = plt.figure(figsize=(10, 10))\n",
    "    # left, bottom, width, height\n",
    "    # facecolor make the bg  transparent\n",
    "    ax1 = fig.add_axes([0.1,  0.5, h,  h], projection='3d',  facecolor='none')\n",
    "    ax2 = fig.add_axes([0.15, 0.1, h,  h], projection='3d',  facecolor='none') \n",
    "    ax3 = fig.add_axes([0.5,  0.5, h,  h], projection='3d',  facecolor='none')\n",
    "    ax4 = fig.add_axes([0.47, 0.1, h,  h], projection='3d',  facecolor='none')  \n",
    "    \n",
    "    plotting.plot_surf_roi([XYZsl, facesl], vecl, hemi='left', view=\"lateral\", axes=ax1, \n",
    "                           bg_on_data=True, darkness=1.5, bg_map=bg_datal, # TO get the depth of the brain plot\n",
    "                           colorbar=False, cmap=cmap, threshold=threshold, \n",
    "                           figure=fig, vmin=vmin, vmax=vmax);\n",
    "    plotting.plot_surf_roi([XYZsl, facesl], vecl, hemi='left', view=\"medial\", axes=ax2, \n",
    "                           bg_on_data=True, darkness=1.5, bg_map=bg_datal,\n",
    "                           colorbar=False, cmap=cmap, threshold=threshold, \n",
    "                           figure=fig, vmin=vmin, vmax=vmax);\n",
    "    plotting.plot_surf_roi([XYZsr, facesr], vecr, hemi='right', view=\"lateral\", axes=ax3, \n",
    "                           bg_on_data=True, darkness=1.5, bg_map=bg_datar,\n",
    "                           colorbar=False, cmap=cmap, threshold=threshold, \n",
    "                           figure=fig, vmin=vmin, vmax=vmax);\n",
    "    plotting.plot_surf_roi([XYZsr, facesr], vecr, hemi='right', view=\"medial\", axes=ax4, \n",
    "                           bg_on_data=True, darkness=1.5, bg_map=bg_datar,\n",
    "                           colorbar=False, cmap=cmap, threshold=threshold, \n",
    "                           figure=fig, vmin=vmin, vmax=vmax);\n",
    "    \n",
    "    fig.text(0.12, 0.30, 'Medial', ha='center', va='center')\n",
    "    fig.text(0.12, 0.72, 'Lateral', ha='center', va='center')\n",
    "    fig.text(0.30, 0.87, 'Left', ha='center', va='center')\n",
    "    fig.text(0.72, 0.87, 'Right', ha='center', va='center')\n",
    "    #plt.suptitle(\"-log pvalues\", fontsize=30)\n",
    "    \n",
    "    norm = mpl.colors.Normalize(vmin=vmin, vmax=vmax)\n",
    "    sm = plt.cm.ScalarMappable(cmap=cmap, norm=norm)\n",
    "    sm.set_array([])  \n",
    "    cbar_ax = fig.add_axes([.91, .3, .03, .4])\n",
    "    fig.colorbar(sm, cax=cbar_ax)\n",
    "    return fig"
   ]
  },
  {
   "cell_type": "code",
   "execution_count": 18,
   "id": "5dfc9057-53d2-4741-8235-02a58fe997c1",
   "metadata": {
    "execution": {
     "iopub.execute_input": "2024-04-30T07:08:48.196776Z",
     "iopub.status.busy": "2024-04-30T07:08:48.196128Z",
     "iopub.status.idle": "2024-04-30T07:08:49.517808Z",
     "shell.execute_reply": "2024-04-30T07:08:49.517138Z",
     "shell.execute_reply.started": "2024-04-30T07:08:48.196729Z"
    },
    "tags": []
   },
   "outputs": [
    {
     "data": {
      "text/plain": [
       "(array([ 4,  6,  8, 10, 12]), array([0.3, 0.5, 0.7, 0.9, 1.3]))"
      ]
     },
     "execution_count": 18,
     "metadata": {},
     "output_type": "execute_result"
    }
   ],
   "source": [
    "def _filname2set(fil):\n",
    "    \"\"\"Based on the file name, reture the setting\"\"\"\n",
    "    res = edict()\n",
    "    for curstr in fil.stem.split(\"-\"):\n",
    "        vs = curstr.split(\"_\")\n",
    "        if vs[0] == \"lam\":\n",
    "            res[vs[0]] = int(vs[1])/1000\n",
    "        else:\n",
    "            res[vs[0]] = int(vs[1])\n",
    "    return res\n",
    "tNs = []\n",
    "tlams = []\n",
    "for fil in save_dir.glob(f\"roi_*.pkl\"):\n",
    "    tmp = _filname2set(fil)\n",
    "    tNs.append(tmp[\"N\"])\n",
    "    tlams.append(tmp[\"lam\"])\n",
    "np.sort(np.unique(tNs)),  np.sort(np.unique(tlams))"
   ]
  },
  {
   "cell_type": "code",
   "execution_count": 19,
   "id": "4cfc00fd-9ae4-4bcf-86cd-c718750433d1",
   "metadata": {
    "execution": {
     "iopub.execute_input": "2024-04-30T07:08:57.140824Z",
     "iopub.status.busy": "2024-04-30T07:08:57.140073Z",
     "iopub.status.idle": "2024-04-30T07:08:57.185554Z",
     "shell.execute_reply": "2024-04-30T07:08:57.184514Z",
     "shell.execute_reply.started": "2024-04-30T07:08:57.140777Z"
    },
    "tags": []
   },
   "outputs": [],
   "source": [
    "from utils.misc import get_local_min_idxs\n",
    "def _argmin_last2d(arr):\n",
    "    \"\"\"\n",
    "    Find the minimum value positions along the last two dimensions of a 2D array.\n",
    "\n",
    "    Args:\n",
    "    arr (numpy.ndarray): Input 2D array.\n",
    "\n",
    "    Returns:\n",
    "    tuple: Indices of the minimum values along the last two dimensions.\n",
    "    \"\"\"\n",
    "    arr_reshaped = arr.reshape(arr.shape[0], -1)\n",
    "    min_positions_linear = np.argmin(arr_reshaped, axis=1)\n",
    "    min_positions = np.unravel_index(min_positions_linear, arr.shape[1:])\n",
    "    return min_positions\n",
    "def _get_min_idx(x):\n",
    "    \"\"\"Get the index of the minimal values among the local minimals.\n",
    "       If there are multiple ones, return the largest index\n",
    "       args:\n",
    "           x: a vec\n",
    "        \n",
    "    \"\"\"\n",
    "    x = np.array(x)\n",
    "    lmin_idxs = get_local_min_idxs(x);\n",
    "    if len(lmin_idxs) == 0:\n",
    "        lmin_idxs = np.arange(len(x))\n",
    "    lmin_idxs_inv =  lmin_idxs[::-1]\n",
    "    lmins_inv = x[lmin_idxs_inv];\n",
    "    return  lmin_idxs_inv[np.argmin(lmins_inv)]\n",
    "def _Nlam_localmin(err_mat, Ns, lams):\n",
    "    min_idxs = []\n",
    "    for err_vec in err_mat:\n",
    "        min_idxs.append([_get_min_idx(err_vec), \n",
    "                         err_vec[_get_min_idx(err_vec)]])\n",
    "    min_idxs = np.array(min_idxs)\n",
    "    best_idx = np.argmin(min_idxs[:, 1])\n",
    "    best_N = Ns[best_idx]\n",
    "    best_lam = lams[int(min_idxs[best_idx, 0])]\n",
    "    return (best_N, best_lam)"
   ]
  },
  {
   "cell_type": "code",
   "execution_count": 20,
   "id": "fb4af0d6-05fb-4549-854e-843045852746",
   "metadata": {
    "execution": {
     "iopub.execute_input": "2024-04-30T07:09:02.225332Z",
     "iopub.status.busy": "2024-04-30T07:09:02.224730Z",
     "iopub.status.idle": "2024-04-30T07:09:02.269019Z",
     "shell.execute_reply": "2024-04-30T07:09:02.268331Z",
     "shell.execute_reply.started": "2024-04-30T07:09:02.225286Z"
    },
    "tags": []
   },
   "outputs": [],
   "source": [
    "from scipy.stats import chi2\n",
    "lams = np.sort(np.unique(tlams))\n",
    "lams = [0.1, 0.3, 0.5, 0.7, 0.9, 1.1, 1.3]\n",
    "Ns = np.array([4, 6, 8, 10, 12])\n",
    "log_cv = np.log(0.05/68);"
   ]
  },
  {
   "cell_type": "raw",
   "id": "5d5ac706-92a1-43fb-9823-75ed7742c048",
   "metadata": {
    "execution": {
     "iopub.execute_input": "2024-03-08T19:43:50.229734Z",
     "iopub.status.busy": "2024-03-08T19:43:50.229157Z",
     "iopub.status.idle": "2024-03-08T19:56:24.518741Z",
     "shell.execute_reply": "2024-03-08T19:56:24.517349Z",
     "shell.execute_reply.started": "2024-03-08T19:43:50.229688Z"
    },
    "tags": []
   },
   "source": [
    "from itertools import product\n",
    "all_coms = product(range(68), lams, Ns)\n",
    "def _extract_err(roi_ix, lam, N):\n",
    "    fil = save_dir/f\"roi_{roi_ix}-lam_{lam*1000:.0f}-N_{N:.0f}_fit.pkl\"\n",
    "    hdf_res = load_pkl(fil, verbose=False);\n",
    "    mse = np.mean((hdf_res.cv_Y_est - hdf_res.Y.numpy())**2)\n",
    "    return (roi_ix, lam, N), mse\n",
    "\n",
    "with Parallel(n_jobs=20) as parallel:\n",
    "    errs = parallel(delayed(_extract_err)(roi_ix=roi_ix, lam=lam, N=N) \n",
    "                    for roi_ix, lam, N in tqdm(all_coms, total=68*len(Ns)*len(lams)))\n",
    "save_pkl(RES_ROOT/f\"{SAVED_FOLDER}/errs_mse_roi_N_lam.pkl\", errs, is_force=True);"
   ]
  },
  {
   "cell_type": "raw",
   "id": "321c98c8-f50c-45b3-83d9-65a8f6b9bb9d",
   "metadata": {
    "execution": {
     "iopub.execute_input": "2024-03-05T08:16:56.024241Z",
     "iopub.status.busy": "2024-03-05T08:16:56.023595Z",
     "iopub.status.idle": "2024-03-05T08:16:56.110257Z",
     "shell.execute_reply": "2024-03-05T08:16:56.109038Z",
     "shell.execute_reply.started": "2024-03-05T08:16:56.024192Z"
    }
   },
   "source": []
  },
  {
   "cell_type": "code",
   "execution_count": 21,
   "id": "a2e6ad68-d7e7-40c5-b149-b525d08dc60c",
   "metadata": {
    "execution": {
     "iopub.execute_input": "2024-04-30T07:09:07.488327Z",
     "iopub.status.busy": "2024-04-30T07:09:07.487713Z",
     "iopub.status.idle": "2024-04-30T07:09:07.595482Z",
     "shell.execute_reply": "2024-04-30T07:09:07.594590Z",
     "shell.execute_reply.started": "2024-04-30T07:09:07.488278Z"
    },
    "tags": []
   },
   "outputs": [
    {
     "name": "stdout",
     "output_type": "stream",
     "text": [
      "Load file /data/rajlab1/user_data/jin/MyResearch/HDFP_dev/mypkg/../results/real_data_nlinear_nostd/errs_mse_roi_N_lam.pkl\n"
     ]
    },
    {
     "name": "stderr",
     "output_type": "stream",
     "text": [
      "100%|█████████████████████████████████████████████████████████████████████████████████████████████████████████████████| 68/68 [00:00<00:00, 39000.78it/s]\n"
     ]
    }
   ],
   "source": [
    "errs = load_pkl(RES_ROOT/f\"{SAVED_FOLDER}/errs_mse_roi_N_lam.pkl\");\n",
    "errs_dict = {v[0]:v[1] for v in errs};\n",
    "# sel the lams based on the CV errors\n",
    "errs_arr = []\n",
    "for roi_ix in trange(68):\n",
    "    errs_N = []\n",
    "    for N in Ns:\n",
    "        errs_lam = []\n",
    "        for lam in lams:\n",
    "            mse = errs_dict[(roi_ix, lam, N)]\n",
    "            errs_lam.append(mse)\n",
    "        errs_N.append(errs_lam)\n",
    "    errs_arr.append(errs_N)\n",
    "errs_arr = np.array(errs_arr); #nroi x nN x nlam x nsub"
   ]
  },
  {
   "cell_type": "markdown",
   "id": "bb1a0549-7397-4d55-9278-38d24efb7375",
   "metadata": {},
   "source": [
    "## Select with mse"
   ]
  },
  {
   "cell_type": "code",
   "execution_count": 22,
   "id": "b4b2c3ab-72d6-40c7-ae81-92f00dbc1918",
   "metadata": {
    "execution": {
     "iopub.execute_input": "2024-04-30T07:09:20.483869Z",
     "iopub.status.busy": "2024-04-30T07:09:20.483219Z",
     "iopub.status.idle": "2024-04-30T07:09:20.543100Z",
     "shell.execute_reply": "2024-04-30T07:09:20.542513Z",
     "shell.execute_reply.started": "2024-04-30T07:09:20.483821Z"
    },
    "tags": []
   },
   "outputs": [
    {
     "name": "stdout",
     "output_type": "stream",
     "text": [
      "/data/rajlab1/user_data/jin/MyResearch/HDFP_dev/mypkg/../results/real_data_nlinear_nostd/sel_Nlams_mse.pkl exists! Use is_force=True to save it anyway\n"
     ]
    }
   ],
   "source": [
    "sel_Nlams_mse = []\n",
    "for roi_ix in range(68):\n",
    "    sel_Nlams_mse.append(_Nlam_localmin(errs_arr[roi_ix], Ns, lams))\n",
    "sel_Nlams_mse = np.array(sel_Nlams_mse);\n",
    "\n",
    "save_pkl(RES_ROOT/f\"{SAVED_FOLDER}/sel_Nlams_mse.pkl\", sel_Nlams_mse)"
   ]
  },
  {
   "cell_type": "code",
   "execution_count": null,
   "id": "9cdff5bb",
   "metadata": {},
   "outputs": [],
   "source": []
  },
  {
   "cell_type": "code",
   "execution_count": 23,
   "id": "3d8ae196-58b7-4361-85ef-a2c008112fd0",
   "metadata": {
    "execution": {
     "iopub.execute_input": "2024-04-30T07:09:24.633400Z",
     "iopub.status.busy": "2024-04-30T07:09:24.632770Z",
     "iopub.status.idle": "2024-04-30T07:10:02.744632Z",
     "shell.execute_reply": "2024-04-30T07:10:02.743320Z",
     "shell.execute_reply.started": "2024-04-30T07:09:24.633354Z"
    },
    "scrolled": true,
    "tags": []
   },
   "outputs": [
    {
     "name": "stderr",
     "output_type": "stream",
     "text": [
      "  0%|                                                                                                                             | 0/68 [00:00<?, ?it/s]/home/hujin/jin/conda/envs/HDFP/lib/python3.9/site-packages/torch/storage.py:414: FutureWarning: You are using `torch.load` with `weights_only=False` (the current default value), which uses the default pickle module implicitly. It is possible to construct malicious pickle data which will execute arbitrary code during unpickling (See https://github.com/pytorch/pytorch/blob/main/SECURITY.md#untrusted-models for more details). In a future release, the default value for `weights_only` will be flipped to `True`. This limits the functions that could be executed during unpickling. Arbitrary objects will no longer be allowed to be loaded via this mode unless they are explicitly allowlisted by the user via `torch.serialization.add_safe_globals`. We recommend you start setting `weights_only=True` for any use case where you don't have full control of the loaded file. Please open an issue on GitHub for any issues related to this experimental feature.\n",
      "  return torch.load(io.BytesIO(b))\n",
      "2024-08-11 18:43:05,764 - optimization.opt - INFO - hypo params is {'svdinv_eps_Q': 1e-07, 'svdinv_eps_Psi': 1e-07, 'Cmat': array([[1.]])}.\n",
      "  1%|█▋                                                                                                                   | 1/68 [00:02<02:19,  2.09s/it]2024-08-11 18:43:05,794 - optimization.opt - INFO - hypo params is {'svdinv_eps_Q': 1e-07, 'svdinv_eps_Psi': 1e-07, 'Cmat': array([[1.]])}.\n",
      "2024-08-11 18:43:05,814 - optimization.opt - INFO - hypo params is {'svdinv_eps_Q': 1e-07, 'svdinv_eps_Psi': 1e-07, 'Cmat': array([[1.]])}.\n",
      "2024-08-11 18:43:05,828 - optimization.opt - INFO - hypo params is {'svdinv_eps_Q': 1e-07, 'svdinv_eps_Psi': 1e-07, 'Cmat': array([[1.]])}.\n",
      "2024-08-11 18:43:05,842 - optimization.opt - INFO - hypo params is {'svdinv_eps_Q': 1e-07, 'svdinv_eps_Psi': 1e-07, 'Cmat': array([[1.]])}.\n",
      "2024-08-11 18:43:05,861 - optimization.opt - INFO - hypo params is {'svdinv_eps_Q': 1e-07, 'svdinv_eps_Psi': 1e-07, 'Cmat': array([[1.]])}.\n",
      "2024-08-11 18:43:05,874 - optimization.opt - INFO - hypo params is {'svdinv_eps_Q': 1e-07, 'svdinv_eps_Psi': 1e-07, 'Cmat': array([[1.]])}.\n",
      " 10%|████████████                                                                                                         | 7/68 [00:02<00:14,  4.27it/s]2024-08-11 18:43:05,889 - optimization.opt - INFO - hypo params is {'svdinv_eps_Q': 1e-07, 'svdinv_eps_Psi': 1e-07, 'Cmat': array([[1.]])}.\n",
      "2024-08-11 18:43:05,900 - optimization.opt - INFO - hypo params is {'svdinv_eps_Q': 1e-07, 'svdinv_eps_Psi': 1e-07, 'Cmat': array([[1.]])}.\n",
      "2024-08-11 18:43:05,913 - optimization.opt - INFO - hypo params is {'svdinv_eps_Q': 1e-07, 'svdinv_eps_Psi': 1e-07, 'Cmat': array([[1.]])}.\n",
      "2024-08-11 18:43:05,928 - optimization.opt - INFO - hypo params is {'svdinv_eps_Q': 1e-07, 'svdinv_eps_Psi': 1e-07, 'Cmat': array([[1.]])}.\n",
      "2024-08-11 18:43:05,940 - optimization.opt - INFO - hypo params is {'svdinv_eps_Q': 1e-07, 'svdinv_eps_Psi': 1e-07, 'Cmat': array([[1.]])}.\n",
      "2024-08-11 18:43:05,950 - optimization.opt - INFO - hypo params is {'svdinv_eps_Q': 1e-07, 'svdinv_eps_Psi': 1e-07, 'Cmat': array([[1.]])}.\n",
      "2024-08-11 18:43:05,961 - optimization.opt - INFO - hypo params is {'svdinv_eps_Q': 1e-07, 'svdinv_eps_Psi': 1e-07, 'Cmat': array([[1.]])}.\n",
      "2024-08-11 18:43:05,972 - optimization.opt - INFO - hypo params is {'svdinv_eps_Q': 1e-07, 'svdinv_eps_Psi': 1e-07, 'Cmat': array([[1.]])}.\n",
      "2024-08-11 18:43:05,984 - optimization.opt - INFO - hypo params is {'svdinv_eps_Q': 1e-07, 'svdinv_eps_Psi': 1e-07, 'Cmat': array([[1.]])}.\n",
      " 24%|███████████████████████████▎                                                                                        | 16/68 [00:02<00:04, 11.35it/s]2024-08-11 18:43:05,996 - optimization.opt - INFO - hypo params is {'svdinv_eps_Q': 1e-07, 'svdinv_eps_Psi': 1e-07, 'Cmat': array([[1.]])}.\n",
      "2024-08-11 18:43:06,009 - optimization.opt - INFO - hypo params is {'svdinv_eps_Q': 1e-07, 'svdinv_eps_Psi': 1e-07, 'Cmat': array([[1.]])}.\n",
      "2024-08-11 18:43:06,022 - optimization.opt - INFO - hypo params is {'svdinv_eps_Q': 1e-07, 'svdinv_eps_Psi': 1e-07, 'Cmat': array([[1.]])}.\n",
      "2024-08-11 18:43:06,034 - optimization.opt - INFO - hypo params is {'svdinv_eps_Q': 1e-07, 'svdinv_eps_Psi': 1e-07, 'Cmat': array([[1.]])}.\n",
      "2024-08-11 18:43:06,045 - optimization.opt - INFO - hypo params is {'svdinv_eps_Q': 1e-07, 'svdinv_eps_Psi': 1e-07, 'Cmat': array([[1.]])}.\n",
      "2024-08-11 18:43:06,056 - optimization.opt - INFO - hypo params is {'svdinv_eps_Q': 1e-07, 'svdinv_eps_Psi': 1e-07, 'Cmat': array([[1.]])}.\n",
      "2024-08-11 18:43:06,076 - optimization.opt - INFO - hypo params is {'svdinv_eps_Q': 1e-07, 'svdinv_eps_Psi': 1e-07, 'Cmat': array([[1.]])}.\n",
      "2024-08-11 18:43:06,091 - optimization.opt - INFO - hypo params is {'svdinv_eps_Q': 1e-07, 'svdinv_eps_Psi': 1e-07, 'Cmat': array([[1.]])}.\n",
      " 35%|████████████████████████████████████████▉                                                                           | 24/68 [00:02<00:02, 18.45it/s]2024-08-11 18:43:06,112 - optimization.opt - INFO - hypo params is {'svdinv_eps_Q': 1e-07, 'svdinv_eps_Psi': 1e-07, 'Cmat': array([[1.]])}.\n",
      "2024-08-11 18:43:06,132 - optimization.opt - INFO - hypo params is {'svdinv_eps_Q': 1e-07, 'svdinv_eps_Psi': 1e-07, 'Cmat': array([[1.]])}.\n",
      "2024-08-11 18:43:06,145 - optimization.opt - INFO - hypo params is {'svdinv_eps_Q': 1e-07, 'svdinv_eps_Psi': 1e-07, 'Cmat': array([[1.]])}.\n",
      "2024-08-11 18:43:06,159 - optimization.opt - INFO - hypo params is {'svdinv_eps_Q': 1e-07, 'svdinv_eps_Psi': 1e-07, 'Cmat': array([[1.]])}.\n",
      "2024-08-11 18:43:06,171 - optimization.opt - INFO - hypo params is {'svdinv_eps_Q': 1e-07, 'svdinv_eps_Psi': 1e-07, 'Cmat': array([[1.]])}.\n",
      "2024-08-11 18:43:06,182 - optimization.opt - INFO - hypo params is {'svdinv_eps_Q': 1e-07, 'svdinv_eps_Psi': 1e-07, 'Cmat': array([[1.]])}.\n",
      "2024-08-11 18:43:06,194 - optimization.opt - INFO - hypo params is {'svdinv_eps_Q': 1e-07, 'svdinv_eps_Psi': 1e-07, 'Cmat': array([[1.]])}.\n",
      " 46%|████████████████████████████████████████████████████▉                                                               | 31/68 [00:02<00:01, 25.12it/s]2024-08-11 18:43:06,207 - optimization.opt - INFO - hypo params is {'svdinv_eps_Q': 1e-07, 'svdinv_eps_Psi': 1e-07, 'Cmat': array([[1.]])}.\n",
      "2024-08-11 18:43:06,217 - optimization.opt - INFO - hypo params is {'svdinv_eps_Q': 1e-07, 'svdinv_eps_Psi': 1e-07, 'Cmat': array([[1.]])}.\n",
      "2024-08-11 18:43:06,228 - optimization.opt - INFO - hypo params is {'svdinv_eps_Q': 1e-07, 'svdinv_eps_Psi': 1e-07, 'Cmat': array([[1.]])}.\n",
      "2024-08-11 18:43:06,241 - optimization.opt - INFO - hypo params is {'svdinv_eps_Q': 1e-07, 'svdinv_eps_Psi': 1e-07, 'Cmat': array([[1.]])}.\n",
      "2024-08-11 18:43:06,250 - optimization.opt - INFO - hypo params is {'svdinv_eps_Q': 1e-07, 'svdinv_eps_Psi': 1e-07, 'Cmat': array([[1.]])}.\n",
      "2024-08-11 18:43:06,261 - optimization.opt - INFO - hypo params is {'svdinv_eps_Q': 1e-07, 'svdinv_eps_Psi': 1e-07, 'Cmat': array([[1.]])}.\n",
      "2024-08-11 18:43:06,270 - optimization.opt - INFO - hypo params is {'svdinv_eps_Q': 1e-07, 'svdinv_eps_Psi': 1e-07, 'Cmat': array([[1.]])}.\n",
      "2024-08-11 18:43:06,286 - optimization.opt - INFO - hypo params is {'svdinv_eps_Q': 1e-07, 'svdinv_eps_Psi': 1e-07, 'Cmat': array([[1.]])}.\n",
      "2024-08-11 18:43:06,300 - optimization.opt - INFO - hypo params is {'svdinv_eps_Q': 1e-07, 'svdinv_eps_Psi': 1e-07, 'Cmat': array([[1.]])}.\n",
      " 59%|████████████████████████████████████████████████████████████████████▏                                               | 40/68 [00:02<00:00, 34.93it/s]2024-08-11 18:43:06,311 - optimization.opt - INFO - hypo params is {'svdinv_eps_Q': 1e-07, 'svdinv_eps_Psi': 1e-07, 'Cmat': array([[1.]])}.\n",
      "2024-08-11 18:43:06,321 - optimization.opt - INFO - hypo params is {'svdinv_eps_Q': 1e-07, 'svdinv_eps_Psi': 1e-07, 'Cmat': array([[1.]])}.\n",
      "2024-08-11 18:43:06,331 - optimization.opt - INFO - hypo params is {'svdinv_eps_Q': 1e-07, 'svdinv_eps_Psi': 1e-07, 'Cmat': array([[1.]])}.\n",
      "2024-08-11 18:43:06,343 - optimization.opt - INFO - hypo params is {'svdinv_eps_Q': 1e-07, 'svdinv_eps_Psi': 1e-07, 'Cmat': array([[1.]])}.\n",
      "2024-08-11 18:43:06,354 - optimization.opt - INFO - hypo params is {'svdinv_eps_Q': 1e-07, 'svdinv_eps_Psi': 1e-07, 'Cmat': array([[1.]])}.\n",
      "2024-08-11 18:43:06,365 - optimization.opt - INFO - hypo params is {'svdinv_eps_Q': 1e-07, 'svdinv_eps_Psi': 1e-07, 'Cmat': array([[1.]])}.\n",
      "2024-08-11 18:43:06,375 - optimization.opt - INFO - hypo params is {'svdinv_eps_Q': 1e-07, 'svdinv_eps_Psi': 1e-07, 'Cmat': array([[1.]])}.\n",
      "2024-08-11 18:43:06,385 - optimization.opt - INFO - hypo params is {'svdinv_eps_Q': 1e-07, 'svdinv_eps_Psi': 1e-07, 'Cmat': array([[1.]])}.\n",
      "2024-08-11 18:43:06,394 - optimization.opt - INFO - hypo params is {'svdinv_eps_Q': 1e-07, 'svdinv_eps_Psi': 1e-07, 'Cmat': array([[1.]])}.\n",
      "2024-08-11 18:43:06,405 - optimization.opt - INFO - hypo params is {'svdinv_eps_Q': 1e-07, 'svdinv_eps_Psi': 1e-07, 'Cmat': array([[1.]])}.\n",
      " 74%|█████████████████████████████████████████████████████████████████████████████████████▎                              | 50/68 [00:02<00:00, 46.32it/s]2024-08-11 18:43:06,417 - optimization.opt - INFO - hypo params is {'svdinv_eps_Q': 1e-07, 'svdinv_eps_Psi': 1e-07, 'Cmat': array([[1.]])}.\n",
      "2024-08-11 18:43:06,427 - optimization.opt - INFO - hypo params is {'svdinv_eps_Q': 1e-07, 'svdinv_eps_Psi': 1e-07, 'Cmat': array([[1.]])}.\n",
      "2024-08-11 18:43:06,437 - optimization.opt - INFO - hypo params is {'svdinv_eps_Q': 1e-07, 'svdinv_eps_Psi': 1e-07, 'Cmat': array([[1.]])}.\n",
      "2024-08-11 18:43:06,449 - optimization.opt - INFO - hypo params is {'svdinv_eps_Q': 1e-07, 'svdinv_eps_Psi': 1e-07, 'Cmat': array([[1.]])}.\n",
      "2024-08-11 18:43:06,460 - optimization.opt - INFO - hypo params is {'svdinv_eps_Q': 1e-07, 'svdinv_eps_Psi': 1e-07, 'Cmat': array([[1.]])}.\n",
      "2024-08-11 18:43:06,470 - optimization.opt - INFO - hypo params is {'svdinv_eps_Q': 1e-07, 'svdinv_eps_Psi': 1e-07, 'Cmat': array([[1.]])}.\n",
      "2024-08-11 18:43:06,487 - optimization.opt - INFO - hypo params is {'svdinv_eps_Q': 1e-07, 'svdinv_eps_Psi': 1e-07, 'Cmat': array([[1.]])}.\n",
      "2024-08-11 18:43:06,501 - optimization.opt - INFO - hypo params is {'svdinv_eps_Q': 1e-07, 'svdinv_eps_Psi': 1e-07, 'Cmat': array([[1.]])}.\n",
      "2024-08-11 18:43:06,516 - optimization.opt - INFO - hypo params is {'svdinv_eps_Q': 1e-07, 'svdinv_eps_Psi': 1e-07, 'Cmat': array([[1.]])}.\n",
      " 87%|████████████████████████████████████████████████████████████████████████████████████████████████████▋               | 59/68 [00:02<00:00, 53.94it/s]2024-08-11 18:43:06,537 - optimization.opt - INFO - hypo params is {'svdinv_eps_Q': 1e-07, 'svdinv_eps_Psi': 1e-07, 'Cmat': array([[1.]])}.\n",
      "2024-08-11 18:43:06,551 - optimization.opt - INFO - hypo params is {'svdinv_eps_Q': 1e-07, 'svdinv_eps_Psi': 1e-07, 'Cmat': array([[1.]])}.\n",
      "2024-08-11 18:43:06,565 - optimization.opt - INFO - hypo params is {'svdinv_eps_Q': 1e-07, 'svdinv_eps_Psi': 1e-07, 'Cmat': array([[1.]])}.\n",
      "2024-08-11 18:43:06,577 - optimization.opt - INFO - hypo params is {'svdinv_eps_Q': 1e-07, 'svdinv_eps_Psi': 1e-07, 'Cmat': array([[1.]])}.\n",
      "2024-08-11 18:43:06,591 - optimization.opt - INFO - hypo params is {'svdinv_eps_Q': 1e-07, 'svdinv_eps_Psi': 1e-07, 'Cmat': array([[1.]])}.\n",
      "2024-08-11 18:43:06,603 - optimization.opt - INFO - hypo params is {'svdinv_eps_Q': 1e-07, 'svdinv_eps_Psi': 1e-07, 'Cmat': array([[1.]])}.\n",
      "2024-08-11 18:43:06,614 - optimization.opt - INFO - hypo params is {'svdinv_eps_Q': 1e-07, 'svdinv_eps_Psi': 1e-07, 'Cmat': array([[1.]])}.\n",
      "2024-08-11 18:43:06,625 - optimization.opt - INFO - hypo params is {'svdinv_eps_Q': 1e-07, 'svdinv_eps_Psi': 1e-07, 'Cmat': array([[1.]])}.\n",
      " 99%|██████████████████████████████████████████████████████████████████████████████████████████████████████████████████▎ | 67/68 [00:02<00:00, 58.71it/s]2024-08-11 18:43:06,638 - optimization.opt - INFO - hypo params is {'svdinv_eps_Q': 1e-07, 'svdinv_eps_Psi': 1e-07, 'Cmat': array([[1.]])}.\n",
      "100%|████████████████████████████████████████████████████████████████████████████████████████████████████████████████████| 68/68 [00:02<00:00, 23.00it/s]\n"
     ]
    }
   ],
   "source": [
    "T_vs = []\n",
    "keep_rois = []\n",
    "pvals = []\n",
    "for roi_ix in trange(68):\n",
    "    errs = []\n",
    "    N, lam = sel_Nlams_mse[roi_ix]\n",
    "    fil = save_dir/f\"roi_{roi_ix}-lam_{lam*1000:.0f}-N_{N:.0f}_fit.pkl\"\n",
    "    hdf_res = load_pkl(fil, verbose=False)\n",
    "    hdf_res.verbose=1\n",
    "    test_res = hdf_res.hypo_test(Cmat=np.eye(1))\n",
    "    T_vs.append(test_res.T_v.item())\n",
    "    pvals.append(test_res.pval)\n",
    "    keep_rois.append((hdf_res.est_Gam.norm(dim=0) != 0).numpy().astype(int))\n",
    "keep_rois = np.array(keep_rois)\n",
    "T_vs = np.array(T_vs);\n",
    "pvals = np.array(pvals);"
   ]
  },
  {
   "cell_type": "code",
   "execution_count": 35,
   "id": "a1b3431b",
   "metadata": {},
   "outputs": [
    {
     "data": {
      "text/plain": [
       "64"
      ]
     },
     "execution_count": 35,
     "metadata": {},
     "output_type": "execute_result"
    }
   ],
   "source": [
    "# choose the ROI with the most significant p-value\n",
    "most_sig_idx = np.argmin(pvals)"
   ]
  },
  {
   "cell_type": "code",
   "execution_count": 82,
   "id": "78f86946",
   "metadata": {},
   "outputs": [],
   "source": [
    "# get the lobe information\n",
    "lobs_df =  pd.read_csv(DATA_ROOT/\"dk68_utils/DK68_lobe.csv\")\n",
    "\n",
    "lobs_df_names = np.array(lobs_df[\"name.full\"])\n",
    "lobs = np.array(lobs_df[\"lobe\"])\n",
    "\n",
    "rawname = lobs_df_names[0]\n",
    "\n",
    "def _get_cleanname(rawname): \n",
    "    \"\"\"Input the rawname (name from `DK68_lobe.csv`), return the cleaned name\n",
    "    \"\"\"\n",
    "    roi_hemi = \"Left\" if rawname[0] == \"L\" else \"Right\"\n",
    "    rm_suffix = [\"gyrus\", \"cortex\", \"lobule\"]\n",
    "    roi_name = rawname[1:]\n",
    "    for rm_suf in rm_suffix:\n",
    "        roi_name = roi_name.split(rm_suf)[0].strip()\n",
    "    if \"bank\" in roi_name.lower():\n",
    "        roi_name = \"bankssts\"\n",
    "    return f\"{roi_hemi} {roi_name}\"\n",
    "\n",
    "# check if the cleaned names are in the rois_clean\n",
    "if False:\n",
    "    for rawname in lobs_df_names:\n",
    "        clname = _get_cleanname(rawname)\n",
    "        idx = rois_clean.index(clname)\n",
    "        print(idx)\n",
    "        if not (clname==rois_clean[idx]):\n",
    "            print(clname, \"not found\")\n",
    "\n",
    "# a dict key is the cleaned name, value is the lobe\n",
    "roi_lobe_map = dict()\n",
    "for lob, rawname in zip(lobs, lobs_df_names):\n",
    "    roi_lobe_map[_get_cleanname(rawname)] = lob"
   ]
  },
  {
   "cell_type": "code",
   "execution_count": 88,
   "id": "fdfed892",
   "metadata": {},
   "outputs": [
    {
     "data": {
      "text/html": [
       "<div>\n",
       "<style scoped>\n",
       "    .dataframe tbody tr th:only-of-type {\n",
       "        vertical-align: middle;\n",
       "    }\n",
       "\n",
       "    .dataframe tbody tr th {\n",
       "        vertical-align: top;\n",
       "    }\n",
       "\n",
       "    .dataframe thead th {\n",
       "        text-align: right;\n",
       "    }\n",
       "</style>\n",
       "<table border=\"1\" class=\"dataframe\">\n",
       "  <thead>\n",
       "    <tr style=\"text-align: right;\">\n",
       "      <th></th>\n",
       "      <th>0</th>\n",
       "      <th>1</th>\n",
       "    </tr>\n",
       "  </thead>\n",
       "  <tbody>\n",
       "    <tr>\n",
       "      <th>0</th>\n",
       "      <td>Left cuneus</td>\n",
       "      <td>Occipital</td>\n",
       "    </tr>\n",
       "    <tr>\n",
       "      <th>1</th>\n",
       "      <td>Left inferior parietal</td>\n",
       "      <td>Parietal</td>\n",
       "    </tr>\n",
       "    <tr>\n",
       "      <th>2</th>\n",
       "      <td>Left inferior temporal</td>\n",
       "      <td>Temporal</td>\n",
       "    </tr>\n",
       "    <tr>\n",
       "      <th>3</th>\n",
       "      <td>Left isthmus cingulate</td>\n",
       "      <td>Cingulate</td>\n",
       "    </tr>\n",
       "    <tr>\n",
       "      <th>4</th>\n",
       "      <td>Left lingual</td>\n",
       "      <td>Occipital</td>\n",
       "    </tr>\n",
       "    <tr>\n",
       "      <th>5</th>\n",
       "      <td>Left middle temporal</td>\n",
       "      <td>Temporal</td>\n",
       "    </tr>\n",
       "    <tr>\n",
       "      <th>6</th>\n",
       "      <td>Left pars triangularis</td>\n",
       "      <td>Frontal</td>\n",
       "    </tr>\n",
       "    <tr>\n",
       "      <th>7</th>\n",
       "      <td>Left pericalcarine</td>\n",
       "      <td>Occipital</td>\n",
       "    </tr>\n",
       "    <tr>\n",
       "      <th>8</th>\n",
       "      <td>Left rostral middle frontal</td>\n",
       "      <td>Frontal</td>\n",
       "    </tr>\n",
       "    <tr>\n",
       "      <th>9</th>\n",
       "      <td>Left superior parietal</td>\n",
       "      <td>Parietal</td>\n",
       "    </tr>\n",
       "    <tr>\n",
       "      <th>10</th>\n",
       "      <td>Left supramarginal</td>\n",
       "      <td>Parietal</td>\n",
       "    </tr>\n",
       "    <tr>\n",
       "      <th>11</th>\n",
       "      <td>Right cuneus</td>\n",
       "      <td>Occipital</td>\n",
       "    </tr>\n",
       "    <tr>\n",
       "      <th>12</th>\n",
       "      <td>Right inferior parietal</td>\n",
       "      <td>Parietal</td>\n",
       "    </tr>\n",
       "    <tr>\n",
       "      <th>13</th>\n",
       "      <td>Right inferior temporal</td>\n",
       "      <td>Temporal</td>\n",
       "    </tr>\n",
       "    <tr>\n",
       "      <th>14</th>\n",
       "      <td>Right lingual</td>\n",
       "      <td>Occipital</td>\n",
       "    </tr>\n",
       "    <tr>\n",
       "      <th>15</th>\n",
       "      <td>Right pericalcarine</td>\n",
       "      <td>Occipital</td>\n",
       "    </tr>\n",
       "    <tr>\n",
       "      <th>16</th>\n",
       "      <td>Right precuneus</td>\n",
       "      <td>Parietal</td>\n",
       "    </tr>\n",
       "    <tr>\n",
       "      <th>17</th>\n",
       "      <td>Right rostral anterior cingulate</td>\n",
       "      <td>Cingulate</td>\n",
       "    </tr>\n",
       "    <tr>\n",
       "      <th>18</th>\n",
       "      <td>Right superior parietal</td>\n",
       "      <td>Parietal</td>\n",
       "    </tr>\n",
       "  </tbody>\n",
       "</table>\n",
       "</div>"
      ],
      "text/plain": [
       "                                   0          1\n",
       "0                        Left cuneus  Occipital\n",
       "1             Left inferior parietal   Parietal\n",
       "2             Left inferior temporal   Temporal\n",
       "3             Left isthmus cingulate  Cingulate\n",
       "4                       Left lingual  Occipital\n",
       "5               Left middle temporal   Temporal\n",
       "6             Left pars triangularis    Frontal\n",
       "7                 Left pericalcarine  Occipital\n",
       "8        Left rostral middle frontal    Frontal\n",
       "9             Left superior parietal   Parietal\n",
       "10                Left supramarginal   Parietal\n",
       "11                      Right cuneus  Occipital\n",
       "12           Right inferior parietal   Parietal\n",
       "13           Right inferior temporal   Temporal\n",
       "14                     Right lingual  Occipital\n",
       "15               Right pericalcarine  Occipital\n",
       "16                   Right precuneus   Parietal\n",
       "17  Right rostral anterior cingulate  Cingulate\n",
       "18           Right superior parietal   Parietal"
      ]
     },
     "execution_count": 88,
     "metadata": {},
     "output_type": "execute_result"
    }
   ],
   "source": [
    "sig_roi_name = list(np.array(rois_clean)[pvals < 0.05/68])\n",
    "sig_roi_lobe = [roi_lobe_map[roi] for roi in sig_roi_name]\n",
    "np.unique(sig_roi_lobe, return_counts=True)\n",
    "pd.DataFrame(np.concatenate([sig_roi_name, sig_roi_lobe], axis=0).reshape(2, -1).T)"
   ]
  },
  {
   "cell_type": "markdown",
   "id": "92839858",
   "metadata": {},
   "source": []
  },
  {
   "cell_type": "markdown",
   "id": "43fe9cde-c224-42ed-aa98-1f785fa18bde",
   "metadata": {},
   "source": [
    "### Calculate the sample size"
   ]
  },
  {
   "cell_type": "code",
   "execution_count": 45,
   "id": "1948f9fa",
   "metadata": {},
   "outputs": [
    {
     "data": {
      "text/plain": [
       "array([31, 59, 29,  7, 63, 47,  3, 37, 55, 41, 13, 21, 60,  8, 15, 10, 42,\n",
       "       27, 20, 26, 36, 28, 40,  0, 57, 25, 22,  5, 54,  4, 38, 39, 46, 33,\n",
       "       49,  1, 62, 66, 67, 34, 17, 51, 61,  6, 30, 53, 45, 58,  2, 12, 56,\n",
       "       19, 44, 11, 35, 43, 18, 48, 52,  9, 24, 32, 23, 50, 65, 16, 14, 64])"
      ]
     },
     "execution_count": 45,
     "metadata": {},
     "output_type": "execute_result"
    }
   ],
   "source": [
    "np.argsort(pvals)"
   ]
  },
  {
   "cell_type": "code",
   "execution_count": 37,
   "id": "4cd44a65",
   "metadata": {},
   "outputs": [
    {
     "data": {
      "text/plain": [
       "('Left supramarginal', 'Right superior temporal')"
      ]
     },
     "execution_count": 37,
     "metadata": {},
     "output_type": "execute_result"
    }
   ],
   "source": [
    "rois_clean[31], rois_clean[64]"
   ]
  },
  {
   "cell_type": "code",
   "execution_count": 47,
   "id": "c34b0d37",
   "metadata": {},
   "outputs": [
    {
     "data": {
      "text/plain": [
       "31"
      ]
     },
     "execution_count": 47,
     "metadata": {},
     "output_type": "execute_result"
    }
   ],
   "source": [
    "sel_idx = 31"
   ]
  },
  {
   "cell_type": "code",
   "execution_count": 48,
   "id": "2902fa13",
   "metadata": {},
   "outputs": [
    {
     "name": "stderr",
     "output_type": "stream",
     "text": [
      "/home/hujin/jin/conda/envs/HDFP/lib/python3.9/site-packages/torch/storage.py:414: FutureWarning: You are using `torch.load` with `weights_only=False` (the current default value), which uses the default pickle module implicitly. It is possible to construct malicious pickle data which will execute arbitrary code during unpickling (See https://github.com/pytorch/pytorch/blob/main/SECURITY.md#untrusted-models for more details). In a future release, the default value for `weights_only` will be flipped to `True`. This limits the functions that could be executed during unpickling. Arbitrary objects will no longer be allowed to be loaded via this mode unless they are explicitly allowlisted by the user via `torch.serialization.add_safe_globals`. We recommend you start setting `weights_only=True` for any use case where you don't have full control of the loaded file. Please open an issue on GitHub for any issues related to this experimental feature.\n",
      "  return torch.load(io.BytesIO(b))\n"
     ]
    }
   ],
   "source": [
    "fil = save_dir/f\"roi_{sel_idx}-lam_{sel_Nlams_mse[sel_idx, 1]*1000:.0f}-N_{sel_Nlams_mse[sel_idx, 0]:.0f}_fit.pkl\"\n",
    "hdf_res = load_pkl(fil, verbose=False);"
   ]
  },
  {
   "cell_type": "code",
   "execution_count": 49,
   "id": "74414e99",
   "metadata": {},
   "outputs": [
    {
     "name": "stderr",
     "output_type": "stream",
     "text": [
      "/home/hujin/jin/conda/envs/HDFP/lib/python3.9/site-packages/torch/storage.py:414: FutureWarning: You are using `torch.load` with `weights_only=False` (the current default value), which uses the default pickle module implicitly. It is possible to construct malicious pickle data which will execute arbitrary code during unpickling (See https://github.com/pytorch/pytorch/blob/main/SECURITY.md#untrusted-models for more details). In a future release, the default value for `weights_only` will be flipped to `True`. This limits the functions that could be executed during unpickling. Arbitrary objects will no longer be allowed to be loaded via this mode unless they are explicitly allowlisted by the user via `torch.serialization.add_safe_globals`. We recommend you start setting `weights_only=True` for any use case where you don't have full control of the loaded file. Please open an issue on GitHub for any issues related to this experimental feature.\n",
      "  return torch.load(io.BytesIO(b))\n"
     ]
    }
   ],
   "source": [
    "est_beta, _, _= _get_est_beta(sel_idx);\n",
    "# let only consider delta and theta band\n",
    "# ts is under the alternative hypothesis\n",
    "hs = est_beta.copy()\n",
    "hs[freqs0>8] = 0\n"
   ]
  },
  {
   "cell_type": "code",
   "execution_count": 62,
   "id": "6a477616",
   "metadata": {},
   "outputs": [
    {
     "name": "stderr",
     "output_type": "stream",
     "text": [
      "/home/hujin/jin/conda/envs/HDFP/lib/python3.9/site-packages/torch/storage.py:414: FutureWarning: You are using `torch.load` with `weights_only=False` (the current default value), which uses the default pickle module implicitly. It is possible to construct malicious pickle data which will execute arbitrary code during unpickling (See https://github.com/pytorch/pytorch/blob/main/SECURITY.md#untrusted-models for more details). In a future release, the default value for `weights_only` will be flipped to `True`. This limits the functions that could be executed during unpickling. Arbitrary objects will no longer be allowed to be loaded via this mode unless they are explicitly allowlisted by the user via `torch.serialization.add_safe_globals`. We recommend you start setting `weights_only=True` for any use case where you don't have full control of the loaded file. Please open an issue on GitHub for any issues related to this experimental feature.\n",
      "  return torch.load(io.BytesIO(b))\n"
     ]
    },
    {
     "data": {
      "image/png": "[encoded data removed]",
      "text/plain": [
       "<Figure size 1000x500 with 1 Axes>"
      ]
     },
     "metadata": {},
     "output_type": "display_data"
    }
   ],
   "source": [
    "sel_idx = 31\n",
    "est_beta, _, _= _get_est_beta(sel_idx);\n",
    "hs1 = est_beta.copy()\n",
    "hs1[freqs0>8] = 0\n",
    "\n",
    "sel_idx = 64\n",
    "est_beta, _, _= _get_est_beta(sel_idx);\n",
    "hs2 = est_beta.copy()\n",
    "hs2[freqs0>8] = 0\n",
    "\n",
    "plt.plot(freqs0, hs1, label=\"Most siginificant ROI\")\n",
    "plt.plot(freqs0, hs2, label=\"Least siginificant ROI\")\n",
    "plt.xlim([2, 8])\n",
    "plt.legend()\n",
    "plt.xlabel(\"Frequency (Hz)\")\n",
    "plt.savefig(FIG_ROOT/\"ssd_hn_most_least_sig_ROI.jpg\")"
   ]
  },
  {
   "cell_type": "code",
   "execution_count": 55,
   "id": "91ba5aae",
   "metadata": {},
   "outputs": [
    {
     "data": {
      "text/plain": [
       "19"
      ]
     },
     "execution_count": 55,
     "metadata": {},
     "output_type": "execute_result"
    }
   ],
   "source": [
    "n = hdf_res.det_sample_size(Cmat=np.eye(1), hs=hs, alpha=0.05, power=0.90,nub=10000)"
   ]
  },
  {
   "cell_type": "code",
   "execution_count": null,
   "id": "0ac6283b",
   "metadata": {},
   "outputs": [],
   "source": []
  }
 ],
 "metadata": {
  "kernelspec": {
   "display_name": "Python 3 (ipykernel)",
   "language": "python",
   "name": "python3"
  },
  "language_info": {
   "codemirror_mode": {
    "name": "ipython",
    "version": 3
   },
   "file_extension": ".py",
   "mimetype": "text/x-python",
   "name": "python",
   "nbconvert_exporter": "python",
   "pygments_lexer": "ipython3",
   "version": "3.9.19"
  },
  "toc": {
   "base_numbering": 1,
   "nav_menu": {},
   "number_sections": true,
   "sideBar": true,
   "skip_h1_title": false,
   "title_cell": "Table of Contents",
   "title_sidebar": "Contents",
   "toc_cell": false,
   "toc_position": {
    "height": "calc(100% - 180px)",
    "left": "10px",
    "top": "150px",
    "width": "165px"
   },
   "toc_section_display": true,
   "toc_window_display": true
  },
  "toc-autonumbering": true
 },
 "nbformat": 4,
 "nbformat_minor": 5
}
