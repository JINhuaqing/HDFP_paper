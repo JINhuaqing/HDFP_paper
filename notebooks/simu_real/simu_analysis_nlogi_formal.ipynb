{
 "cells": [
  {
   "cell_type": "markdown",
   "id": "942a9fb0-de26-4619-9f8f-1d1ad87c308f",
   "metadata": {},
   "source": [
    "Analysis the results under new code"
   ]
  },
  {
   "cell_type": "code",
   "execution_count": 1,
   "id": "02ae980e",
   "metadata": {
    "ExecuteTime": {
     "end_time": "2023-05-31T19:57:23.490285Z",
     "start_time": "2023-05-31T19:57:23.481769Z"
    },
    "execution": {
     "iopub.execute_input": "2024-04-29T20:42:11.660729Z",
     "iopub.status.busy": "2024-04-29T20:42:11.660455Z",
     "iopub.status.idle": "2024-04-29T20:42:11.672446Z",
     "shell.execute_reply": "2024-04-29T20:42:11.669526Z",
     "shell.execute_reply.started": "2024-04-29T20:42:11.660704Z"
    },
    "tags": []
   },
   "outputs": [],
   "source": [
    "import sys\n",
    "sys.path.append(\"../../mypkg\")"
   ]
  },
  {
   "cell_type": "code",
   "execution_count": 2,
   "id": "b9d3cbc6-1ac5-47d6-a0d1-bcbc0be9267e",
   "metadata": {
    "execution": {
     "iopub.execute_input": "2024-04-29T20:42:11.679297Z",
     "iopub.status.busy": "2024-04-29T20:42:11.678859Z",
     "iopub.status.idle": "2024-04-29T20:42:11.730611Z",
     "shell.execute_reply": "2024-04-29T20:42:11.729671Z",
     "shell.execute_reply.started": "2024-04-29T20:42:11.679264Z"
    },
    "tags": []
   },
   "outputs": [],
   "source": [
    "# This will reload all imports as soon as the code changes\n",
    "%load_ext autoreload\n",
    "%autoreload 2"
   ]
  },
  {
   "cell_type": "code",
   "execution_count": 3,
   "id": "023df78a",
   "metadata": {
    "ExecuteTime": {
     "end_time": "2023-05-31T19:57:34.238839Z",
     "start_time": "2023-05-31T19:57:23.494053Z"
    },
    "execution": {
     "iopub.execute_input": "2024-04-29T20:42:11.732451Z",
     "iopub.status.busy": "2024-04-29T20:42:11.731945Z",
     "iopub.status.idle": "2024-04-29T20:42:17.848332Z",
     "shell.execute_reply": "2024-04-29T20:42:17.847637Z",
     "shell.execute_reply.started": "2024-04-29T20:42:11.732395Z"
    },
    "tags": []
   },
   "outputs": [],
   "source": [
    "import numpy as np\n",
    "import torch\n",
    "import matplotlib.pyplot as plt\n",
    "import seaborn as sns\n",
    "from scipy.stats import pearsonr\n",
    "from numbers import Number\n",
    "\n",
    "from joblib import Parallel, delayed\n",
    "\n",
    "from easydict import EasyDict as edict\n",
    "from tqdm import trange, tqdm\n",
    "from scipy.io import loadmat\n",
    "from pprint import pprint\n",
    "import itertools\n",
    "from scipy.stats import chi2\n",
    "from IPython.display import display\n",
    "import pandas as pd\n",
    "from collections import defaultdict as ddict\n",
    "\n"
   ]
  },
  {
   "cell_type": "code",
   "execution_count": 4,
   "id": "b0aa91b2",
   "metadata": {
    "ExecuteTime": {
     "end_time": "2023-05-31T19:57:59.558229Z",
     "start_time": "2023-05-31T19:57:34.292612Z"
    },
    "execution": {
     "iopub.execute_input": "2024-04-29T20:42:17.849750Z",
     "iopub.status.busy": "2024-04-29T20:42:17.849297Z",
     "iopub.status.idle": "2024-04-29T20:42:17.960921Z",
     "shell.execute_reply": "2024-04-29T20:42:17.959655Z",
     "shell.execute_reply.started": "2024-04-29T20:42:17.849729Z"
    },
    "tags": []
   },
   "outputs": [],
   "source": [
    "from constants import DATA_ROOT, RES_ROOT, FIG_ROOT, MIDRES_ROOT\n",
    "\n",
    "from utils.misc import save_pkl, load_pkl, get_local_min_idxs\n",
    "from scenarios.real_simu_logi import settings\n",
    "from scenarios.real_simu_logi_meg import settings as settingms\n"
   ]
  },
  {
   "cell_type": "code",
   "execution_count": 5,
   "id": "d29891f5-2fe1-428f-9d0d-4991cd3bfc58",
   "metadata": {
    "execution": {
     "iopub.execute_input": "2024-04-29T20:42:17.963013Z",
     "iopub.status.busy": "2024-04-29T20:42:17.962434Z",
     "iopub.status.idle": "2024-04-29T20:42:20.375984Z",
     "shell.execute_reply": "2024-04-29T20:42:20.374468Z",
     "shell.execute_reply.started": "2024-04-29T20:42:17.962970Z"
    },
    "tags": []
   },
   "outputs": [],
   "source": [
    "import logging\n",
    "from optimization.opt import logger as logger1\n",
    "logger1.handlers[0].setLevel(logging.WARNING)\n",
    "\n",
    "plt.style.use(FIG_ROOT/\"base.mplstyle\")\n",
    "torch.set_default_dtype(torch.float64)"
   ]
  },
  {
   "cell_type": "code",
   "execution_count": null,
   "id": "fe0a4a46",
   "metadata": {
    "ExecuteTime": {
     "end_time": "2023-05-31T19:57:59.621784Z",
     "start_time": "2023-05-31T19:57:59.568097Z"
    },
    "tags": []
   },
   "outputs": [],
   "source": []
  },
  {
   "cell_type": "code",
   "execution_count": null,
   "id": "e0cb5a3d-1ab1-4bc0-bfce-d7ebaedb0391",
   "metadata": {},
   "outputs": [],
   "source": []
  },
  {
   "cell_type": "code",
   "execution_count": null,
   "id": "d0af2f35",
   "metadata": {},
   "outputs": [],
   "source": []
  },
  {
   "cell_type": "code",
   "execution_count": 6,
   "id": "d93eca7c-5b7c-49ee-bec2-979f08f8d602",
   "metadata": {
    "execution": {
     "iopub.execute_input": "2024-04-29T20:42:20.378487Z",
     "iopub.status.busy": "2024-04-29T20:42:20.377787Z",
     "iopub.status.idle": "2024-04-29T20:42:20.418851Z",
     "shell.execute_reply": "2024-04-29T20:42:20.418113Z",
     "shell.execute_reply.started": "2024-04-29T20:42:20.378438Z"
    },
    "tags": []
   },
   "outputs": [],
   "source": [
    "def _get_min_idx(x):\n",
    "    \"\"\"Get the index of the minimal values among the local minimals.\n",
    "       If there are multiple ones, return the largest index\n",
    "       args:\n",
    "           x: a vec\n",
    "        \n",
    "    \"\"\"\n",
    "    x = np.array(x)\n",
    "    lmin_idxs = get_local_min_idxs(x);\n",
    "    if len(lmin_idxs) == 0:\n",
    "        lmin_idxs = np.arange(len(x))\n",
    "    lmin_idxs_inv =  lmin_idxs[::-1]\n",
    "    lmins_inv = x[lmin_idxs_inv];\n",
    "    return  lmin_idxs_inv[np.argmin(lmins_inv)]\n",
    "def outlier_det(T_vs, ratio_tol=0.05):\n",
    "    \"\"\"\n",
    "    Detects outliers in a given dataset using the interquartile range (IQR) method.\n",
    "\n",
    "    Parameters:\n",
    "    - T_vs (array-like): The input dataset.\n",
    "    - ratio_tol (float, optional): The tolerance ratio for outlier removal. Default is 0.05.\n",
    "\n",
    "    Returns:\n",
    "    - kpidx (ndarray): A boolean array indicating whether each data point is an outlier or not.\n",
    "    \"\"\"\n",
    "    Q1, Q3 = np.quantile(T_vs, [0.25, 0.75])\n",
    "    IQR = Q3 - Q1\n",
    "    upbd = Q3 + 1.5*IQR\n",
    "    lowbd = Q1 - 1.5*IQR\n",
    "    kpidx = np.bitwise_and(T_vs>=lowbd, T_vs<=upbd)\n",
    "    \n",
    "    if np.mean(kpidx)+ ratio_tol < 1:\n",
    "        out_part = np.stack([T_vs - upbd, lowbd - T_vs]).T.max(axis=1);\n",
    "        kpidx = np.ones(len(T_vs), dtype=bool)\n",
    "        kpidx[np.argsort(-out_part)[:int(len(T_vs)*ratio_tol)]] = False\n",
    "    return kpidx"
   ]
  },
  {
   "cell_type": "code",
   "execution_count": 7,
   "id": "a7589c1a-aef1-4f61-81c6-dbb6e61dbd6f",
   "metadata": {
    "execution": {
     "iopub.execute_input": "2024-04-29T20:42:20.419922Z",
     "iopub.status.busy": "2024-04-29T20:42:20.419669Z",
     "iopub.status.idle": "2024-04-29T20:42:20.445901Z",
     "shell.execute_reply": "2024-04-29T20:42:20.445201Z",
     "shell.execute_reply.started": "2024-04-29T20:42:20.419906Z"
    },
    "tags": []
   },
   "outputs": [],
   "source": [
    "def outlier_det1(T_vs, ratio_tol=0.05):\n",
    "    maes = np.abs(T_vs - np.median(T_vs));\n",
    "    idxs = np.argsort(-maes)\n",
    "    kpidx = np.ones(len(T_vs), dtype=bool)\n",
    "    kpidx[idxs[:int(ratio_tol*len(T_vs))]] = False\n",
    "    return kpidx"
   ]
  },
  {
   "cell_type": "code",
   "execution_count": null,
   "id": "75e10fd4",
   "metadata": {},
   "outputs": [],
   "source": []
  },
  {
   "cell_type": "code",
   "execution_count": 78,
   "id": "c979f760-ba7d-44eb-a235-1309a6436855",
   "metadata": {
    "execution": {
     "iopub.execute_input": "2024-04-29T21:09:22.408842Z",
     "iopub.status.busy": "2024-04-29T21:09:22.408071Z",
     "iopub.status.idle": "2024-04-29T21:09:22.454227Z",
     "shell.execute_reply": "2024-04-29T21:09:22.453562Z",
     "shell.execute_reply.started": "2024-04-29T21:09:22.408791Z"
    },
    "tags": []
   },
   "outputs": [
    {
     "name": "stdout",
     "output_type": "stream",
     "text": [
      "[0.001, 0.01, 0.05, 0.08, 0.1, 0.2, 0.3, 0.4, 0.5, 0.6, 0.7, 0.8, 0.9, 1.0, 2.0, 16.0]\n"
     ]
    },
    {
     "data": {
      "text/plain": [
       "array([[ 1, -1]])"
      ]
     },
     "execution_count": 78,
     "metadata": {},
     "output_type": "execute_result"
    }
   ],
   "source": [
    "num_rep0 = 200;\n",
    "num_rep1 = 1000;\n",
    "setting = settings[\"n2a\"]\n",
    "#setting = settingms[\"nm2\"]\n",
    "can_Ns = setting.can_Ns\n",
    "can_lams = setting.can_lams\n",
    "print(can_lams)\n",
    "\n",
    "c1s = [0.0, 0.1, 0.2, 0.4]\n",
    "Cmat = np.eye(1) \n",
    "Cmat = np.array([\n",
    "    [1, -1], \n",
    "    #[1, -0.8], \n",
    "    #[2, -1.5], \n",
    "]).reshape(1, -1)\n"
   ]
  },
  {
   "cell_type": "code",
   "execution_count": 79,
   "id": "aa9f1be4-2ff1-41c1-86fc-2b85d7b50be2",
   "metadata": {
    "execution": {
     "iopub.execute_input": "2024-04-29T21:09:22.851365Z",
     "iopub.status.busy": "2024-04-29T21:09:22.850840Z",
     "iopub.status.idle": "2024-04-29T21:09:22.895385Z",
     "shell.execute_reply": "2024-04-29T21:09:22.894709Z",
     "shell.execute_reply.started": "2024-04-29T21:09:22.851321Z"
    },
    "tags": []
   },
   "outputs": [
    {
     "data": {
      "text/plain": [
       "0.0"
      ]
     },
     "execution_count": 79,
     "metadata": {},
     "output_type": "execute_result"
    }
   ],
   "source": [
    "# get GT at c=0\n",
    "ts = setting.data_gen_params.beta_fn(setting.data_gen_params.cs_fn(0.0))[:, :Cmat.shape[-1]]\n",
    "ts = ts @ Cmat.T;\n",
    "np.linalg.norm(ts)"
   ]
  },
  {
   "cell_type": "code",
   "execution_count": null,
   "id": "c4d346ec-0d18-460b-8eae-79f96d4cd7af",
   "metadata": {},
   "outputs": [],
   "source": []
  },
  {
   "cell_type": "code",
   "execution_count": 80,
   "id": "dfd6d7e4-4870-453b-a7e9-f342802ede3b",
   "metadata": {
    "execution": {
     "iopub.execute_input": "2024-04-29T21:09:23.565475Z",
     "iopub.status.busy": "2024-04-29T21:09:23.564749Z",
     "iopub.status.idle": "2024-04-29T21:10:07.457472Z",
     "shell.execute_reply": "2024-04-29T21:10:07.456988Z",
     "shell.execute_reply.started": "2024-04-29T21:09:23.565422Z"
    },
    "scrolled": true,
    "tags": []
   },
   "outputs": [
    {
     "name": "stdout",
     "output_type": "stream",
     "text": [
      "Load file /data/rajlab1/user_data/jin/MyResearch/HDF_infer/notebooks/simu_real/../../mypkg/../results/simu_logi_settingn2a_0_newinte/all-valsel-metrics.pkl\n"
     ]
    },
    {
     "name": "stderr",
     "output_type": "stream",
     "text": [
      "c1: 0.0: 100%|██████████████████████████████████████████████████████████████████████████████████████████████| 200/200 [00:00<00:00, 12611.03it/s]\n"
     ]
    },
    {
     "name": "stdout",
     "output_type": "stream",
     "text": [
      "6 0.2 0.2\n",
      "Load file /data/rajlab1/user_data/jin/MyResearch/HDF_infer/notebooks/simu_real/../../mypkg/../results/simu_logi_settingn2a_100_newinte/all-valsel-metrics.pkl\n"
     ]
    },
    {
     "name": "stderr",
     "output_type": "stream",
     "text": [
      "c1: 0.1: 100%|██████████████████████████████████████████████████████████████████████████████████████████████| 200/200 [00:00<00:00, 12458.95it/s]\n"
     ]
    },
    {
     "name": "stdout",
     "output_type": "stream",
     "text": [
      "6 0.1 0.1\n",
      "Load file /data/rajlab1/user_data/jin/MyResearch/HDF_infer/notebooks/simu_real/../../mypkg/../results/simu_logi_settingn2a_200_newinte/all-valsel-metrics.pkl\n"
     ]
    },
    {
     "name": "stderr",
     "output_type": "stream",
     "text": [
      "c1: 0.2: 100%|██████████████████████████████████████████████████████████████████████████████████████████████| 200/200 [00:00<00:00, 12661.09it/s]\n"
     ]
    },
    {
     "name": "stdout",
     "output_type": "stream",
     "text": [
      "6 0.1 0.1\n",
      "Load file /data/rajlab1/user_data/jin/MyResearch/HDF_infer/notebooks/simu_real/../../mypkg/../results/simu_logi_settingn2a_400_newinte/all-valsel-metrics.pkl\n"
     ]
    },
    {
     "name": "stderr",
     "output_type": "stream",
     "text": [
      "c1: 0.4: 100%|██████████████████████████████████████████████████████████████████████████████████████████████| 200/200 [00:00<00:00, 12675.06it/s]\n"
     ]
    },
    {
     "name": "stdout",
     "output_type": "stream",
     "text": [
      "6 0.1 0.1\n",
      "0.0 6 0.2\n"
     ]
    },
    {
     "name": "stderr",
     "output_type": "stream",
     "text": [
      "c1: 0: 100%|█████████████████████████████████████████████████████████████████████████████████████████████████| 1000/1000 [00:12<00:00, 78.27it/s]\n"
     ]
    },
    {
     "name": "stdout",
     "output_type": "stream",
     "text": [
      "0.1 6 0.1\n"
     ]
    },
    {
     "name": "stderr",
     "output_type": "stream",
     "text": [
      "c1: 100: 100%|███████████████████████████████████████████████████████████████████████████████████████████████| 1000/1000 [00:10<00:00, 97.26it/s]\n"
     ]
    },
    {
     "name": "stdout",
     "output_type": "stream",
     "text": [
      "0.2 6 0.1\n"
     ]
    },
    {
     "name": "stderr",
     "output_type": "stream",
     "text": [
      "c1: 200: 100%|██████████████████████████████████████████████████████████████████████████████████████████████| 1000/1000 [00:09<00:00, 103.77it/s]\n"
     ]
    },
    {
     "name": "stdout",
     "output_type": "stream",
     "text": [
      "0.4 6 0.1\n"
     ]
    },
    {
     "name": "stderr",
     "output_type": "stream",
     "text": [
      "c1: 400: 100%|███████████████████████████████████████████████████████████████████████████████████████████████| 1000/1000 [00:10<00:00, 99.25it/s]\n"
     ]
    }
   ],
   "source": [
    "if True:\n",
    "    def _run_fn1(seed, all_cv_errs):\n",
    "        errs_mat = []\n",
    "        for cur_N in can_Ns:\n",
    "            errs = []\n",
    "            for cur_lam in can_lams:\n",
    "                #errs.append(all_cv_errs[(seed, cur_N, cur_lam)].mse_loss)\n",
    "                errs.append(all_cv_errs[(seed, cur_N, cur_lam)].entropy_loss)\n",
    "            errs_mat.append(errs)\n",
    "        errs_mat = np.array(errs_mat)\n",
    "        return errs_mat\n",
    "    opt_lamNs_fix = {}\n",
    "    for c1 in c1s:\n",
    "        cur_save_dir = RES_ROOT/f\"simu_logi_setting{setting.setting}_{c1*1000:.0f}_newinte\"\n",
    "        all_cv_errs = load_pkl(cur_save_dir/f\"all-valsel-metrics.pkl\")\n",
    "        num_seed = len(np.unique(list(map(lambda x: x[0], all_cv_errs.keys()))))\n",
    "        # do not make n_jobs>1, it is very slow\n",
    "        with Parallel(n_jobs=1) as parallel:\n",
    "            err_ten = parallel(delayed(_run_fn1)(cur_seed, all_cv_errs)  \n",
    "                                     for cur_seed in tqdm(range(num_seed), total=num_seed, desc=f\"c1: {c1}\"))\n",
    "        err_ten = np.array(err_ten);\n",
    "        \n",
    "        err_ten_ses = err_ten.std(axis=0)/np.sqrt(err_ten.shape[0])\n",
    "        err_m = np.mean(np.array(err_ten), axis=0)\n",
    "        errs = []\n",
    "        for err in err_m:\n",
    "            lam_min_idx = _get_min_idx(err)\n",
    "            errs.append((err[lam_min_idx], lam_min_idx))\n",
    "        errs = np.array(errs)\n",
    "        N_min_idx = np.argmin(errs[:, 0]);\n",
    "        lam_min_idx = int(errs[N_min_idx][1]);\n",
    "        min_opt_N, min_opt_lam = can_Ns[N_min_idx], can_lams[lam_min_idx]\n",
    "        \n",
    "        err_upbd = err_m[N_min_idx, lam_min_idx] + err_ten_ses[N_min_idx, lam_min_idx]; \n",
    "        lam_1se_idx = np.where(err_m[N_min_idx] <= err_upbd)[0].max();\n",
    "        print(can_Ns[N_min_idx], can_lams[lam_min_idx], can_lams[lam_1se_idx])\n",
    "        opt_lamNs_fix[c1] = (can_Ns[N_min_idx],  can_lams[lam_min_idx])\n",
    "else:\n",
    "    opt_lamNs_fix = opt_lamNs[setting.setting]   \n",
    "    \n",
    "ress_dict = {}\n",
    "for c1 in c1s:\n",
    "    cur_save_dir = RES_ROOT/f\"simu_logi_setting{setting.setting}_{c1*1000:.0f}_newinte\"\n",
    "    if c1 in opt_lamNs_fix.keys():\n",
    "        cur_N, cur_lam = opt_lamNs_fix[c1]\n",
    "    else:\n",
    "        cur_N, cur_lam = opt_lamNs_fix[str(c1)]\n",
    "    print(c1, cur_N, cur_lam)\n",
    "    def _run_fn_test(cur_seed):\n",
    "        from optimization.opt import logger as logger1\n",
    "        logger1.handlers[0].setLevel(logging.WARNING)\n",
    "        torch.set_default_dtype(torch.float64)\n",
    "        f1_name = f\"seed_{cur_seed:.0f}-lam_{cur_lam*1000:.0f}-N_{cur_N:.0f}_fit.pkl\"\n",
    "        res1 = load_pkl(cur_save_dir/f1_name, verbose=False);\n",
    "        res1.basis_mat = torch.tensor(res1.obt_bsp(np.linspace(0, 1, setting.data_gen_params.npts), \n",
    "                                      res1.bsp_params.N, res1.bsp_params.basis_ord)).to(torch.get_default_dtype());\n",
    "        res = res1.hypo_test(Cmat=Cmat, ts=ts, is_simpler=False, hypo_params={\"svdinv_eps_Q\": 1e-7, \"svdinv_eps_Psi\": 1e-7}) \n",
    "    \n",
    "        return res \n",
    "    with Parallel(n_jobs=1) as parallel:\n",
    "        ress = parallel(delayed(_run_fn_test)(cur_seed) for cur_seed in tqdm(range(num_rep1), desc=f\"c1: {c1*1000:.0f}\", total=num_rep1))\n",
    "    ress = np.array(ress);\n",
    "    ress_dict[c1] = ress"
   ]
  },
  {
   "cell_type": "code",
   "execution_count": null,
   "id": "63a5b225-9691-43bc-8880-11cf932b971d",
   "metadata": {
    "execution": {
     "iopub.execute_input": "2024-04-29T21:10:17.395235Z",
     "iopub.status.busy": "2024-04-29T21:10:17.394460Z",
     "iopub.status.idle": "2024-04-29T21:10:17.447900Z",
     "shell.execute_reply": "2024-04-29T21:10:17.447349Z",
     "shell.execute_reply.started": "2024-04-29T21:10:17.395183Z"
    },
    "tags": []
   },
   "outputs": [],
   "source": [
    "out_res = ddict(list)\n",
    "for c1 in c1s:\n",
    "    ress = ress_dict[c1][:]\n",
    "    pvals = np.array([res[\"pval\"] for res in ress]);\n",
    "    T_vs = np.array([res[\"T_v\"].item() for res in ress]);\n",
    "    kpidx = outlier_det1(T_vs, 0.05)\n",
    "    out_res[\"pval\"].append(np.mean(pvals[kpidx]<0.05))\n",
    "    out_res[\"T_vs\"].append(np.mean(T_vs[kpidx]))\n",
    "\n",
    "out_res[\"c\"] = c1s\n",
    "pd.DataFrame(out_res)"
   ]
  },
  {
   "cell_type": "code",
   "execution_count": null,
   "id": "e90dadb9-6cf8-468e-bd3c-cb9054316864",
   "metadata": {},
   "outputs": [],
   "source": []
  }
 ],
 "metadata": {
  "kernelspec": {
   "display_name": "Python 3 (ipykernel)",
   "language": "python",
   "name": "python3"
  },
  "language_info": {
   "codemirror_mode": {
    "name": "ipython",
    "version": 3
   },
   "file_extension": ".py",
   "mimetype": "text/x-python",
   "name": "python",
   "nbconvert_exporter": "python",
   "pygments_lexer": "ipython3",
   "version": "3.9.7"
  },
  "toc": {
   "base_numbering": 1,
   "nav_menu": {},
   "number_sections": true,
   "sideBar": true,
   "skip_h1_title": false,
   "title_cell": "Table of Contents",
   "title_sidebar": "Contents",
   "toc_cell": false,
   "toc_position": {
    "height": "calc(100% - 180px)",
    "left": "10px",
    "top": "150px",
    "width": "165px"
   },
   "toc_section_display": true,
   "toc_window_display": true
  },
  "toc-autonumbering": true
 },
 "nbformat": 4,
 "nbformat_minor": 5
}
