{
 "cells": [
  {
   "cell_type": "markdown",
   "id": "942a9fb0-de26-4619-9f8f-1d1ad87c308f",
   "metadata": {},
   "source": [
    "Analysis the results under new code"
   ]
  },
  {
   "cell_type": "code",
   "execution_count": 1,
   "id": "02ae980e",
   "metadata": {
    "ExecuteTime": {
     "end_time": "2023-05-31T19:57:23.490285Z",
     "start_time": "2023-05-31T19:57:23.481769Z"
    },
    "execution": {
     "iopub.execute_input": "2024-04-29T18:14:10.415396Z",
     "iopub.status.busy": "2024-04-29T18:14:10.414529Z",
     "iopub.status.idle": "2024-04-29T18:14:10.430968Z",
     "shell.execute_reply": "2024-04-29T18:14:10.427549Z",
     "shell.execute_reply.started": "2024-04-29T18:14:10.415325Z"
    },
    "tags": []
   },
   "outputs": [],
   "source": [
    "import sys\n",
    "sys.path.append(\"../../mypkg\")"
   ]
  },
  {
   "cell_type": "code",
   "execution_count": 2,
   "id": "b9d3cbc6-1ac5-47d6-a0d1-bcbc0be9267e",
   "metadata": {
    "execution": {
     "iopub.execute_input": "2024-04-29T18:14:10.433731Z",
     "iopub.status.busy": "2024-04-29T18:14:10.433053Z",
     "iopub.status.idle": "2024-04-29T18:14:10.505241Z",
     "shell.execute_reply": "2024-04-29T18:14:10.504205Z",
     "shell.execute_reply.started": "2024-04-29T18:14:10.433682Z"
    },
    "tags": []
   },
   "outputs": [],
   "source": [
    "# This will reload all imports as soon as the code changes\n",
    "%load_ext autoreload\n",
    "%autoreload 2"
   ]
  },
  {
   "cell_type": "code",
   "execution_count": 3,
   "id": "023df78a",
   "metadata": {
    "ExecuteTime": {
     "end_time": "2023-05-31T19:57:34.238839Z",
     "start_time": "2023-05-31T19:57:23.494053Z"
    },
    "execution": {
     "iopub.execute_input": "2024-04-29T18:14:10.507701Z",
     "iopub.status.busy": "2024-04-29T18:14:10.507036Z",
     "iopub.status.idle": "2024-04-29T18:14:13.924231Z",
     "shell.execute_reply": "2024-04-29T18:14:13.923670Z",
     "shell.execute_reply.started": "2024-04-29T18:14:10.507669Z"
    },
    "tags": []
   },
   "outputs": [],
   "source": [
    "import numpy as np\n",
    "import torch\n",
    "import matplotlib.pyplot as plt\n",
    "import seaborn as sns\n",
    "from scipy.stats import pearsonr\n",
    "from numbers import Number\n",
    "\n",
    "from joblib import Parallel, delayed\n",
    "\n",
    "from easydict import EasyDict as edict\n",
    "from tqdm import trange, tqdm\n",
    "from scipy.io import loadmat\n",
    "from pprint import pprint\n",
    "import itertools\n",
    "from scipy.stats import chi2\n",
    "from IPython.display import display\n",
    "import pandas as pd\n",
    "from collections import defaultdict as ddict\n",
    "\n"
   ]
  },
  {
   "cell_type": "code",
   "execution_count": 4,
   "id": "b0aa91b2",
   "metadata": {
    "ExecuteTime": {
     "end_time": "2023-05-31T19:57:59.558229Z",
     "start_time": "2023-05-31T19:57:34.292612Z"
    },
    "execution": {
     "iopub.execute_input": "2024-04-29T18:14:13.925581Z",
     "iopub.status.busy": "2024-04-29T18:14:13.925196Z",
     "iopub.status.idle": "2024-04-29T18:14:14.097162Z",
     "shell.execute_reply": "2024-04-29T18:14:14.095939Z",
     "shell.execute_reply.started": "2024-04-29T18:14:13.925563Z"
    },
    "tags": []
   },
   "outputs": [],
   "source": [
    "from constants import DATA_ROOT, RES_ROOT, FIG_ROOT, MIDRES_ROOT\n",
    "\n",
    "from utils.misc import save_pkl, load_pkl, get_local_min_idxs\n",
    "from scenarios.real_simu_linear import settings\n",
    "from scenarios.real_simu_linear_sinica import settings as settingss\n",
    "from scenarios.real_simu_linear_meg import settings as settingms\n"
   ]
  },
  {
   "cell_type": "code",
   "execution_count": 5,
   "id": "d29891f5-2fe1-428f-9d0d-4991cd3bfc58",
   "metadata": {
    "execution": {
     "iopub.execute_input": "2024-04-29T18:14:14.098858Z",
     "iopub.status.busy": "2024-04-29T18:14:14.098352Z",
     "iopub.status.idle": "2024-04-29T18:14:15.143039Z",
     "shell.execute_reply": "2024-04-29T18:14:15.141545Z",
     "shell.execute_reply.started": "2024-04-29T18:14:14.098825Z"
    },
    "tags": []
   },
   "outputs": [],
   "source": [
    "import logging\n",
    "from optimization.opt import logger as logger1\n",
    "logger1.handlers[0].setLevel(logging.WARNING)\n",
    "\n",
    "plt.style.use(FIG_ROOT/\"base.mplstyle\")\n",
    "torch.set_default_dtype(torch.float64)"
   ]
  },
  {
   "cell_type": "code",
   "execution_count": null,
   "id": "fe0a4a46",
   "metadata": {
    "ExecuteTime": {
     "end_time": "2023-05-31T19:57:59.621784Z",
     "start_time": "2023-05-31T19:57:59.568097Z"
    },
    "tags": []
   },
   "outputs": [],
   "source": []
  },
  {
   "cell_type": "code",
   "execution_count": null,
   "id": "e0cb5a3d-1ab1-4bc0-bfce-d7ebaedb0391",
   "metadata": {},
   "outputs": [],
   "source": []
  },
  {
   "cell_type": "code",
   "execution_count": null,
   "id": "d0af2f35",
   "metadata": {},
   "outputs": [],
   "source": []
  },
  {
   "cell_type": "code",
   "execution_count": 6,
   "id": "d93eca7c-5b7c-49ee-bec2-979f08f8d602",
   "metadata": {
    "execution": {
     "iopub.execute_input": "2024-04-29T18:14:15.147186Z",
     "iopub.status.busy": "2024-04-29T18:14:15.145785Z",
     "iopub.status.idle": "2024-04-29T18:14:15.187127Z",
     "shell.execute_reply": "2024-04-29T18:14:15.186089Z",
     "shell.execute_reply.started": "2024-04-29T18:14:15.147134Z"
    },
    "tags": []
   },
   "outputs": [],
   "source": [
    "def _get_min_idx(x):\n",
    "    \"\"\"Get the index of the minimal values among the local minimals.\n",
    "       If there are multiple ones, return the largest index\n",
    "       args:\n",
    "           x: a vec\n",
    "        \n",
    "    \"\"\"\n",
    "    x = np.array(x)\n",
    "    lmin_idxs = get_local_min_idxs(x);\n",
    "    if len(lmin_idxs) == 0:\n",
    "        lmin_idxs = np.arange(len(x))\n",
    "    lmin_idxs_inv =  lmin_idxs[::-1]\n",
    "    lmins_inv = x[lmin_idxs_inv];\n",
    "    return  lmin_idxs_inv[np.argmin(lmins_inv)]\n",
    "def outlier_det(T_vs, ratio_tol=0.05):\n",
    "    \"\"\"\n",
    "    Detects outliers in a given dataset using the interquartile range (IQR) method.\n",
    "\n",
    "    Parameters:\n",
    "    - T_vs (array-like): The input dataset.\n",
    "    - ratio_tol (float, optional): The tolerance ratio for outlier removal. Default is 0.05.\n",
    "\n",
    "    Returns:\n",
    "    - kpidx (ndarray): A boolean array indicating whether each data point is an outlier or not.\n",
    "    \"\"\"\n",
    "    Q1, Q3 = np.quantile(T_vs, [0.25, 0.75])\n",
    "    IQR = Q3 - Q1\n",
    "    upbd = Q3 + 1.5*IQR\n",
    "    lowbd = Q1 - 1.5*IQR\n",
    "    kpidx = np.bitwise_and(T_vs>=lowbd, T_vs<=upbd)\n",
    "    \n",
    "    if np.mean(kpidx)+ ratio_tol < 1:\n",
    "        out_part = np.stack([T_vs - upbd, lowbd - T_vs]).T.max(axis=1);\n",
    "        kpidx = np.ones(len(T_vs), dtype=bool)\n",
    "        kpidx[np.argsort(-out_part)[:int(len(T_vs)*ratio_tol)]] = False\n",
    "    return kpidx"
   ]
  },
  {
   "cell_type": "code",
   "execution_count": 7,
   "id": "7162e2bd-1eed-416a-a088-cc33e201e895",
   "metadata": {
    "execution": {
     "iopub.execute_input": "2024-04-29T18:14:15.188227Z",
     "iopub.status.busy": "2024-04-29T18:14:15.187928Z",
     "iopub.status.idle": "2024-04-29T18:14:15.216145Z",
     "shell.execute_reply": "2024-04-29T18:14:15.215659Z",
     "shell.execute_reply.started": "2024-04-29T18:14:15.188211Z"
    },
    "tags": []
   },
   "outputs": [],
   "source": [
    "def _remove_lams(lams):\n",
    "    \"\"\"remove lam > 0.1 and lam % 0.1 != 0\n",
    "    \"\"\"\n",
    "    if not isinstance(lams, np.ndarray):\n",
    "        lams = np.array(lams)\n",
    "    return lams[np.bitwise_or(lams * 10 % 1 == 0, lams * 10 < 1)]"
   ]
  },
  {
   "cell_type": "code",
   "execution_count": 129,
   "id": "2ea474cf-f20d-4fc9-92c0-80fa1fa8e6aa",
   "metadata": {
    "execution": {
     "iopub.execute_input": "2024-04-29T20:41:11.172541Z",
     "iopub.status.busy": "2024-04-29T20:41:11.171888Z",
     "iopub.status.idle": "2024-04-29T20:41:11.221971Z",
     "shell.execute_reply": "2024-04-29T20:41:11.221312Z",
     "shell.execute_reply.started": "2024-04-29T20:41:11.172491Z"
    },
    "tags": []
   },
   "outputs": [
    {
     "name": "stdout",
     "output_type": "stream",
     "text": [
      "[0.001, 0.1, 0.5, 0.6, 0.7, 0.8, 0.9, 1, 1.1, 1.2, 2, 8]\n"
     ]
    },
    {
     "data": {
      "text/plain": [
       "array([[ 1, -1]])"
      ]
     },
     "execution_count": 129,
     "metadata": {},
     "output_type": "execute_result"
    }
   ],
   "source": [
    "num_rep0 = 200;\n",
    "num_rep1 = 1000;\n",
    "#setting = settingms[\"nm2e\"]\n",
    "setting = settings[\"n2a\"]\n",
    "can_Ns = setting.can_Ns\n",
    "can_Ns = [4, 6, 8, 10, 12]\n",
    "can_lams = setting.can_lams\n",
    "#can_lams = list(_remove_lams(setting.can_lams))\n",
    "print(can_lams)\n",
    "is_simpler = True\n",
    "\n",
    "c1s = [0.0, 0.1, 0.2, 0.4]\n",
    "#c1s = [0.0, 0.2, 0.4]\n",
    "Cmat = np.eye(1) \n",
    "Cmat = np.array([\n",
    "    [1, -1], \n",
    "    #[1, -0.8], \n",
    "    #[2, -1.5], \n",
    "]).reshape(1, -1)"
   ]
  },
  {
   "cell_type": "code",
   "execution_count": 130,
   "id": "cbf50773-cad8-436a-a82b-b9899d66568d",
   "metadata": {
    "execution": {
     "iopub.execute_input": "2024-04-29T20:41:11.595533Z",
     "iopub.status.busy": "2024-04-29T20:41:11.594966Z",
     "iopub.status.idle": "2024-04-29T20:41:11.636933Z",
     "shell.execute_reply": "2024-04-29T20:41:11.636251Z",
     "shell.execute_reply.started": "2024-04-29T20:41:11.595488Z"
    },
    "tags": []
   },
   "outputs": [
    {
     "data": {
      "text/plain": [
       "0.0"
      ]
     },
     "execution_count": 130,
     "metadata": {},
     "output_type": "execute_result"
    }
   ],
   "source": [
    "# get GT at c=0\n",
    "ts = setting.data_gen_params.beta_fn(setting.data_gen_params.cs_fn(0.0))[:, :Cmat.shape[-1]]\n",
    "ts = ts @ Cmat.T;\n",
    "ts;\n",
    "np.linalg.norm(ts)"
   ]
  },
  {
   "cell_type": "code",
   "execution_count": 131,
   "id": "dfd6d7e4-4870-453b-a7e9-f342802ede3b",
   "metadata": {
    "execution": {
     "iopub.execute_input": "2024-04-29T20:41:12.129486Z",
     "iopub.status.busy": "2024-04-29T20:41:12.128823Z",
     "iopub.status.idle": "2024-04-29T20:41:38.442474Z",
     "shell.execute_reply": "2024-04-29T20:41:38.441982Z",
     "shell.execute_reply.started": "2024-04-29T20:41:12.129439Z"
    },
    "scrolled": true,
    "tags": []
   },
   "outputs": [
    {
     "name": "stdout",
     "output_type": "stream",
     "text": [
      "Load file /data/rajlab1/user_data/jin/MyResearch/HDF_infer/notebooks/simu_real/../../mypkg/../results/simu_settingn2a_0_newinte/all-valsel-metrics.pkl\n"
     ]
    },
    {
     "name": "stderr",
     "output_type": "stream",
     "text": [
      "\n",
      "c1: 0.0: 100%|██████████████████████████████████████████████████████████████████████████████████████████████| 200/200 [00:00<00:00, 15679.64it/s]\u001b[A\n"
     ]
    },
    {
     "name": "stdout",
     "output_type": "stream",
     "text": [
      "0.0 12 0.6\n",
      "Load file /data/rajlab1/user_data/jin/MyResearch/HDF_infer/notebooks/simu_real/../../mypkg/../results/simu_settingn2a_100_newinte/all-valsel-metrics.pkl\n"
     ]
    },
    {
     "name": "stderr",
     "output_type": "stream",
     "text": [
      "\n",
      "c1: 0.1: 100%|██████████████████████████████████████████████████████████████████████████████████████████████| 200/200 [00:00<00:00, 15733.75it/s]\u001b[A\n"
     ]
    },
    {
     "name": "stdout",
     "output_type": "stream",
     "text": [
      "0.1 12 0.6\n",
      "Load file /data/rajlab1/user_data/jin/MyResearch/HDF_infer/notebooks/simu_real/../../mypkg/../results/simu_settingn2a_200_newinte/all-valsel-metrics.pkl\n"
     ]
    },
    {
     "name": "stderr",
     "output_type": "stream",
     "text": [
      "\n",
      "c1: 0.2: 100%|██████████████████████████████████████████████████████████████████████████████████████████████| 200/200 [00:00<00:00, 15740.54it/s]\u001b[A\n"
     ]
    },
    {
     "name": "stdout",
     "output_type": "stream",
     "text": [
      "0.2 12 0.6\n",
      "Load file /data/rajlab1/user_data/jin/MyResearch/HDF_infer/notebooks/simu_real/../../mypkg/../results/simu_settingn2a_400_newinte/all-valsel-metrics.pkl\n"
     ]
    },
    {
     "name": "stderr",
     "output_type": "stream",
     "text": [
      "\n",
      "c1: 0.4: 100%|██████████████████████████████████████████████████████████████████████████████████████████████| 200/200 [00:00<00:00, 15649.22it/s]\u001b[A\n"
     ]
    },
    {
     "name": "stdout",
     "output_type": "stream",
     "text": [
      "0.4 12 0.6\n"
     ]
    },
    {
     "name": "stderr",
     "output_type": "stream",
     "text": [
      "\n",
      "c1: 0:   0%|                                                                                                            | 0/1000 [00:00<?, ?it/s]\u001b[A\n",
      "c1: 0:   2%|█▉                                                                                                | 20/1000 [00:00<00:05, 181.19it/s]\u001b[A\n",
      "c1: 0:   4%|████▎                                                                                             | 44/1000 [00:00<00:04, 203.59it/s]\u001b[A\n",
      "c1: 0:   6%|██████▎                                                                                           | 65/1000 [00:00<00:04, 202.60it/s]\u001b[A\n",
      "c1: 0:  12%|████████████                                                                                     | 124/1000 [00:00<00:04, 198.97it/s]\u001b[A\n",
      "c1: 0:  16%|███████████████▏                                                                                 | 156/1000 [00:00<00:04, 185.76it/s]\u001b[A\n",
      "c1: 0:  19%|██████████████████▏                                                                              | 188/1000 [00:01<00:04, 179.96it/s]\u001b[A\n",
      "c1: 0:  22%|█████████████████████▎                                                                           | 220/1000 [00:01<00:04, 174.27it/s]\u001b[A\n",
      "c1: 0:  25%|████████████████████████▍                                                                        | 252/1000 [00:01<00:04, 176.61it/s]\u001b[A\n",
      "c1: 0:  28%|███████████████████████████▌                                                                     | 284/1000 [00:01<00:04, 170.13it/s]\u001b[A\n",
      "c1: 0:  32%|██████████████████████████████▋                                                                  | 316/1000 [00:01<00:04, 170.33it/s]\u001b[A\n",
      "c1: 0:  35%|█████████████████████████████████▊                                                               | 348/1000 [00:01<00:03, 171.65it/s]\u001b[A\n",
      "c1: 0:  38%|████████████████████████████████████▊                                                            | 380/1000 [00:02<00:03, 172.67it/s]\u001b[A\n",
      "c1: 0:  41%|███████████████████████████████████████▉                                                         | 412/1000 [00:02<00:03, 163.37it/s]\u001b[A\n",
      "c1: 0:  44%|███████████████████████████████████████████                                                      | 444/1000 [00:02<00:03, 164.24it/s]\u001b[A\n",
      "c1: 0:  48%|██████████████████████████████████████████████▏                                                  | 476/1000 [00:02<00:03, 161.73it/s]\u001b[A\n",
      "c1: 0:  51%|█████████████████████████████████████████████████▎                                               | 508/1000 [00:02<00:03, 161.03it/s]\u001b[A\n",
      "c1: 0:  54%|████████████████████████████████████████████████████▍                                            | 540/1000 [00:03<00:02, 160.07it/s]\u001b[A\n",
      "c1: 0:  57%|███████████████████████████████████████████████████████▍                                         | 572/1000 [00:03<00:02, 162.05it/s]\u001b[A\n",
      "c1: 0:  60%|██████████████████████████████████████████████████████████▌                                      | 604/1000 [00:03<00:02, 156.23it/s]\u001b[A\n",
      "c1: 0:  64%|█████████████████████████████████████████████████████████████▋                                   | 636/1000 [00:03<00:02, 155.94it/s]\u001b[A\n",
      "c1: 0:  67%|████████████████████████████████████████████████████████████████▊                                | 668/1000 [00:03<00:02, 161.55it/s]\u001b[A\n",
      "c1: 0:  70%|███████████████████████████████████████████████████████████████████▉                             | 700/1000 [00:04<00:01, 163.41it/s]\u001b[A\n",
      "c1: 0:  73%|███████████████████████████████████████████████████████████████████████                          | 732/1000 [00:04<00:01, 162.48it/s]\u001b[A\n",
      "c1: 0:  76%|██████████████████████████████████████████████████████████████████████████                       | 764/1000 [00:04<00:01, 164.38it/s]\u001b[A\n",
      "c1: 0:  80%|█████████████████████████████████████████████████████████████████████████████▏                   | 796/1000 [00:04<00:01, 155.85it/s]\u001b[A\n",
      "c1: 0:  83%|████████████████████████████████████████████████████████████████████████████████▎                | 828/1000 [00:04<00:01, 162.23it/s]\u001b[A\n",
      "c1: 0:  86%|███████████████████████████████████████████████████████████████████████████████████▍             | 860/1000 [00:05<00:00, 161.86it/s]\u001b[A\n",
      "c1: 0:  89%|██████████████████████████████████████████████████████████████████████████████████████▌          | 892/1000 [00:05<00:00, 165.87it/s]\u001b[A\n",
      "c1: 0:  92%|█████████████████████████████████████████████████████████████████████████████████████████▋       | 924/1000 [00:05<00:00, 170.52it/s]\u001b[A\n",
      "c1: 0:  96%|████████████████████████████████████████████████████████████████████████████████████████████▋    | 956/1000 [00:05<00:00, 169.65it/s]\u001b[A\n",
      "c1: 0: 100%|████████████████████████████████████████████████████████████████████████████████████████████████| 1000/1000 [00:05<00:00, 169.27it/s]\u001b[A\n",
      "\n",
      "c1: 100:   0%|                                                                                                          | 0/1000 [00:00<?, ?it/s]\u001b[A\n",
      "c1: 100:   3%|██▋                                                                                             | 28/1000 [00:00<00:04, 220.01it/s]\u001b[A\n",
      "c1: 100:   6%|█████▊                                                                                          | 60/1000 [00:00<00:04, 227.16it/s]\u001b[A\n",
      "c1: 100:  12%|███████████▊                                                                                   | 124/1000 [00:00<00:03, 222.55it/s]\u001b[A\n",
      "c1: 100:  16%|██████████████▊                                                                                | 156/1000 [00:00<00:04, 201.54it/s]\u001b[A\n",
      "c1: 100:  19%|█████████████████▊                                                                             | 188/1000 [00:00<00:04, 193.46it/s]\u001b[A\n",
      "c1: 100:  22%|████████████████████▉                                                                          | 220/1000 [00:01<00:04, 181.47it/s]\u001b[A\n",
      "c1: 100:  25%|███████████████████████▉                                                                       | 252/1000 [00:01<00:04, 175.69it/s]\u001b[A\n",
      "c1: 100:  28%|██████████████████████████▉                                                                    | 284/1000 [00:01<00:04, 168.44it/s]\u001b[A\n",
      "c1: 100:  32%|██████████████████████████████                                                                 | 316/1000 [00:01<00:04, 165.03it/s]\u001b[A\n",
      "c1: 100:  35%|█████████████████████████████████                                                              | 348/1000 [00:01<00:03, 168.29it/s]\u001b[A\n",
      "c1: 100:  38%|████████████████████████████████████                                                           | 380/1000 [00:02<00:03, 167.25it/s]\u001b[A\n",
      "c1: 100:  41%|███████████████████████████████████████▏                                                       | 412/1000 [00:02<00:03, 164.77it/s]\u001b[A\n",
      "c1: 100:  44%|██████████████████████████████████████████▏                                                    | 444/1000 [00:02<00:03, 161.15it/s]\u001b[A\n",
      "c1: 100:  48%|█████████████████████████████████████████████▏                                                 | 476/1000 [00:02<00:03, 159.58it/s]\u001b[A\n",
      "c1: 100:  51%|████████████████████████████████████████████████▎                                              | 508/1000 [00:02<00:03, 156.40it/s]\u001b[A\n",
      "c1: 100:  54%|███████████████████████████████████████████████████▎                                           | 540/1000 [00:03<00:02, 158.58it/s]\u001b[A\n",
      "c1: 100:  57%|██████████████████████████████████████████████████████▎                                        | 572/1000 [00:03<00:02, 161.35it/s]\u001b[A\n",
      "c1: 100:  60%|█████████████████████████████████████████████████████████▍                                     | 604/1000 [00:03<00:02, 163.11it/s]\u001b[A\n",
      "c1: 100:  64%|████████████████████████████████████████████████████████████▍                                  | 636/1000 [00:03<00:02, 165.80it/s]\u001b[A\n",
      "c1: 100:  67%|███████████████████████████████████████████████████████████████▍                               | 668/1000 [00:03<00:01, 166.98it/s]\u001b[A\n",
      "c1: 100:  70%|██████████████████████████████████████████████████████████████████▌                            | 700/1000 [00:04<00:01, 164.10it/s]\u001b[A\n",
      "c1: 100:  73%|█████████████████████████████████████████████████████████████████████▌                         | 732/1000 [00:04<00:01, 164.80it/s]\u001b[A\n",
      "c1: 100:  76%|████████████████████████████████████████████████████████████████████████▌                      | 764/1000 [00:04<00:01, 167.03it/s]\u001b[A\n",
      "c1: 100:  80%|███████████████████████████████████████████████████████████████████████████▌                   | 796/1000 [00:04<00:01, 123.40it/s]\u001b[A\n",
      "c1: 100:  83%|██████████████████████████████████████████████████████████████████████████████▋                | 828/1000 [00:05<00:01, 131.78it/s]\u001b[A\n",
      "c1: 100:  86%|█████████████████████████████████████████████████████████████████████████████████▋             | 860/1000 [00:05<00:01, 139.64it/s]\u001b[A\n",
      "c1: 100:  89%|████████████████████████████████████████████████████████████████████████████████████▋          | 892/1000 [00:05<00:00, 113.22it/s]\u001b[A\n",
      "c1: 100:  92%|███████████████████████████████████████████████████████████████████████████████████████▊       | 924/1000 [00:05<00:00, 124.31it/s]\u001b[A\n",
      "c1: 100:  96%|██████████████████████████████████████████████████████████████████████████████████████████▊    | 956/1000 [00:06<00:00, 135.46it/s]\u001b[A\n",
      "c1: 100: 100%|██████████████████████████████████████████████████████████████████████████████████████████████| 1000/1000 [00:06<00:00, 159.26it/s]\u001b[A\n",
      "\n",
      "c1: 200:   0%|                                                                                                          | 0/1000 [00:00<?, ?it/s]\u001b[A\n",
      "c1: 200:   3%|██▋                                                                                             | 28/1000 [00:00<00:04, 216.40it/s]\u001b[A\n",
      "c1: 200:   6%|█████▊                                                                                          | 60/1000 [00:00<00:04, 231.05it/s]\u001b[A\n",
      "c1: 200:  12%|███████████▊                                                                                   | 124/1000 [00:00<00:03, 221.94it/s]\u001b[A\n",
      "c1: 200:  16%|██████████████▊                                                                                | 156/1000 [00:00<00:04, 192.60it/s]\u001b[A\n",
      "c1: 200:  19%|█████████████████▊                                                                             | 188/1000 [00:00<00:04, 185.19it/s]\u001b[A\n",
      "c1: 200:  22%|████████████████████▉                                                                          | 220/1000 [00:01<00:04, 171.07it/s]\u001b[A\n",
      "c1: 200:  25%|███████████████████████▉                                                                       | 252/1000 [00:01<00:04, 165.74it/s]\u001b[A\n",
      "c1: 200:  28%|██████████████████████████▉                                                                    | 284/1000 [00:01<00:04, 162.07it/s]\u001b[A\n",
      "c1: 200:  32%|██████████████████████████████                                                                 | 316/1000 [00:01<00:04, 155.40it/s]\u001b[A\n",
      "c1: 200:  35%|█████████████████████████████████                                                              | 348/1000 [00:02<00:04, 159.57it/s]\u001b[A\n",
      "c1: 200:  38%|████████████████████████████████████                                                           | 380/1000 [00:02<00:03, 161.19it/s]\u001b[A\n",
      "c1: 200:  41%|███████████████████████████████████████▏                                                       | 412/1000 [00:02<00:03, 162.51it/s]\u001b[A\n",
      "c1: 200:  44%|██████████████████████████████████████████▏                                                    | 444/1000 [00:02<00:03, 156.70it/s]\u001b[A\n",
      "c1: 200:  48%|█████████████████████████████████████████████▏                                                 | 476/1000 [00:02<00:03, 157.23it/s]\u001b[A\n",
      "c1: 200:  51%|████████████████████████████████████████████████▎                                              | 508/1000 [00:03<00:03, 152.87it/s]\u001b[A\n",
      "c1: 200:  54%|███████████████████████████████████████████████████▎                                           | 540/1000 [00:03<00:03, 150.60it/s]\u001b[A\n",
      "c1: 200:  57%|██████████████████████████████████████████████████████▎                                        | 572/1000 [00:03<00:02, 153.59it/s]\u001b[A\n",
      "c1: 200:  60%|█████████████████████████████████████████████████████████▍                                     | 604/1000 [00:03<00:02, 158.41it/s]\u001b[A\n",
      "c1: 200:  64%|████████████████████████████████████████████████████████████▍                                  | 636/1000 [00:03<00:02, 162.26it/s]\u001b[A\n",
      "c1: 200:  67%|███████████████████████████████████████████████████████████████▍                               | 668/1000 [00:04<00:02, 162.07it/s]\u001b[A\n",
      "c1: 200:  70%|██████████████████████████████████████████████████████████████████▌                            | 700/1000 [00:04<00:01, 164.91it/s]\u001b[A\n",
      "c1: 200:  73%|█████████████████████████████████████████████████████████████████████▌                         | 732/1000 [00:04<00:01, 166.14it/s]\u001b[A\n",
      "c1: 200:  76%|████████████████████████████████████████████████████████████████████████▌                      | 764/1000 [00:04<00:01, 160.55it/s]\u001b[A\n",
      "c1: 200:  80%|███████████████████████████████████████████████████████████████████████████▌                   | 796/1000 [00:04<00:01, 159.65it/s]\u001b[A\n",
      "c1: 200:  83%|██████████████████████████████████████████████████████████████████████████████▋                | 828/1000 [00:05<00:01, 162.24it/s]\u001b[A\n",
      "c1: 200:  86%|█████████████████████████████████████████████████████████████████████████████████▋             | 860/1000 [00:05<00:00, 168.43it/s]\u001b[A\n",
      "c1: 200:  89%|████████████████████████████████████████████████████████████████████████████████████▋          | 892/1000 [00:05<00:00, 165.53it/s]\u001b[A\n",
      "c1: 200:  92%|███████████████████████████████████████████████████████████████████████████████████████▊       | 924/1000 [00:05<00:00, 162.47it/s]\u001b[A\n",
      "c1: 200:  96%|██████████████████████████████████████████████████████████████████████████████████████████▊    | 956/1000 [00:05<00:00, 158.57it/s]\u001b[A\n",
      "c1: 200: 100%|██████████████████████████████████████████████████████████████████████████████████████████████| 1000/1000 [00:06<00:00, 166.39it/s]\u001b[A\n",
      "\n",
      "c1: 400:   0%|                                                                                                          | 0/1000 [00:00<?, ?it/s]\u001b[A\n",
      "c1: 400:   3%|██▋                                                                                             | 28/1000 [00:00<00:04, 217.25it/s]\u001b[A\n",
      "c1: 400:   6%|█████▊                                                                                          | 60/1000 [00:00<00:04, 222.35it/s]\u001b[A\n",
      "c1: 400:  12%|███████████▊                                                                                   | 124/1000 [00:00<00:03, 226.36it/s]\u001b[A\n",
      "c1: 400:  16%|██████████████▊                                                                                | 156/1000 [00:00<00:04, 200.64it/s]\u001b[A\n",
      "c1: 400:  19%|█████████████████▊                                                                             | 188/1000 [00:00<00:04, 184.86it/s]\u001b[A\n",
      "c1: 400:  22%|████████████████████▉                                                                          | 220/1000 [00:01<00:04, 178.10it/s]\u001b[A\n",
      "c1: 400:  25%|███████████████████████▉                                                                       | 252/1000 [00:01<00:04, 173.99it/s]\u001b[A\n",
      "c1: 400:  28%|██████████████████████████▉                                                                    | 284/1000 [00:01<00:04, 174.49it/s]\u001b[A\n",
      "c1: 400:  32%|██████████████████████████████                                                                 | 316/1000 [00:01<00:04, 170.77it/s]\u001b[A\n",
      "c1: 400:  35%|█████████████████████████████████                                                              | 348/1000 [00:01<00:03, 169.11it/s]\u001b[A\n",
      "c1: 400:  38%|████████████████████████████████████                                                           | 380/1000 [00:02<00:03, 170.92it/s]\u001b[A\n",
      "c1: 400:  41%|███████████████████████████████████████▏                                                       | 412/1000 [00:02<00:03, 171.98it/s]\u001b[A\n",
      "c1: 400:  44%|██████████████████████████████████████████▏                                                    | 444/1000 [00:02<00:03, 171.04it/s]\u001b[A\n",
      "c1: 400:  48%|█████████████████████████████████████████████▏                                                 | 476/1000 [00:02<00:03, 169.90it/s]\u001b[A\n",
      "c1: 400:  51%|████████████████████████████████████████████████▎                                              | 508/1000 [00:02<00:02, 169.20it/s]\u001b[A\n",
      "c1: 400:  54%|███████████████████████████████████████████████████▎                                           | 540/1000 [00:03<00:02, 163.75it/s]\u001b[A\n",
      "c1: 400:  57%|██████████████████████████████████████████████████████▎                                        | 572/1000 [00:03<00:02, 160.27it/s]\u001b[A\n",
      "c1: 400:  60%|█████████████████████████████████████████████████████████▍                                     | 604/1000 [00:03<00:02, 155.86it/s]\u001b[A\n",
      "c1: 400:  64%|████████████████████████████████████████████████████████████▍                                  | 636/1000 [00:03<00:02, 160.38it/s]\u001b[A\n",
      "c1: 400:  67%|███████████████████████████████████████████████████████████████▍                               | 668/1000 [00:03<00:02, 161.68it/s]\u001b[A\n",
      "c1: 400:  70%|██████████████████████████████████████████████████████████████████▌                            | 700/1000 [00:04<00:01, 155.02it/s]\u001b[A\n",
      "c1: 400:  73%|█████████████████████████████████████████████████████████████████████▌                         | 732/1000 [00:04<00:01, 158.03it/s]\u001b[A\n",
      "c1: 400:  76%|████████████████████████████████████████████████████████████████████████▌                      | 764/1000 [00:04<00:01, 161.29it/s]\u001b[A\n",
      "c1: 400:  80%|███████████████████████████████████████████████████████████████████████████▌                   | 796/1000 [00:04<00:01, 160.12it/s]\u001b[A\n",
      "c1: 400:  83%|██████████████████████████████████████████████████████████████████████████████▋                | 828/1000 [00:04<00:01, 160.95it/s]\u001b[A\n",
      "c1: 400:  86%|█████████████████████████████████████████████████████████████████████████████████▋             | 860/1000 [00:05<00:00, 157.41it/s]\u001b[A\n",
      "c1: 400:  89%|████████████████████████████████████████████████████████████████████████████████████▋          | 892/1000 [00:05<00:00, 159.43it/s]\u001b[A\n",
      "c1: 400:  92%|███████████████████████████████████████████████████████████████████████████████████████▊       | 924/1000 [00:05<00:00, 160.31it/s]\u001b[A\n",
      "c1: 400:  96%|██████████████████████████████████████████████████████████████████████████████████████████▊    | 956/1000 [00:05<00:00, 164.95it/s]\u001b[A\n",
      "c1: 400: 100%|██████████████████████████████████████████████████████████████████████████████████████████████| 1000/1000 [00:05<00:00, 170.92it/s]\u001b[A\n"
     ]
    }
   ],
   "source": [
    "if True:\n",
    "    def _run_fn1(seed, all_cv_errs):\n",
    "        errs_mat = []\n",
    "        for cur_N in can_Ns:\n",
    "            errs = []\n",
    "            for cur_lam in can_lams:\n",
    "                errs.append(all_cv_errs[(seed, cur_N, cur_lam)].mse_loss)\n",
    "            errs_mat.append(errs)\n",
    "        errs_mat = np.array(errs_mat)\n",
    "        return errs_mat\n",
    "    opt_lamNs_fix = {}\n",
    "    for c1 in c1s:\n",
    "        #cur_save_dir = RES_ROOT/f\"real_simu_res/simu_setting{setting.setting}_{c1*1000:.0f}\"\n",
    "        cur_save_dir = RES_ROOT/f\"simu_setting{setting.setting}_{c1*1000:.0f}_newinte\"\n",
    "        all_cv_errs = load_pkl(cur_save_dir/f\"all-valsel-metrics.pkl\")\n",
    "        num_seed = len(np.unique(list(map(lambda x: x[0], all_cv_errs.keys()))))\n",
    "        # do not make n_jobs>1, it is very slow\n",
    "        with Parallel(n_jobs=1) as parallel:\n",
    "            err_ten = parallel(delayed(_run_fn1)(cur_seed, all_cv_errs)  \n",
    "                                     for cur_seed in tqdm(range(num_seed), total=num_seed, desc=f\"c1: {c1}\"))\n",
    "        err_ten = np.array(err_ten);\n",
    "        \n",
    "        err_ten_ses = err_ten.std(axis=0)/np.sqrt(err_ten.shape[0])\n",
    "        err_m = np.mean(np.array(err_ten), axis=0)\n",
    "        errs = []\n",
    "        for err in err_m:\n",
    "            lam_min_idx = _get_min_idx(err)\n",
    "            errs.append((err[lam_min_idx], lam_min_idx))\n",
    "        errs = np.array(errs)\n",
    "        N_min_idx = np.argmin(errs[:, 0]);\n",
    "        lam_min_idx = int(errs[N_min_idx][1]);\n",
    "        min_opt_N, min_opt_lam = can_Ns[N_min_idx], can_lams[lam_min_idx]\n",
    "        \n",
    "        err_upbd = err_m[N_min_idx, lam_min_idx] + err_ten_ses[N_min_idx, lam_min_idx]; \n",
    "        lam_1se_idx = np.where(err_m[N_min_idx] <= err_upbd)[0].max();\n",
    "        print(c1, can_Ns[N_min_idx], can_lams[lam_min_idx])\n",
    "        opt_lamNs_fix[c1] = (can_Ns[N_min_idx],  can_lams[lam_min_idx])\n",
    "    \n",
    "    \n",
    "ress_dict = {}\n",
    "#for c1 in [0, 0.1]:\n",
    "for c1 in c1s:\n",
    "    #cur_save_dir = RES_ROOT/f\"real_simu_res/simu_setting{setting.setting}_{c1*1000:.0f}\"\n",
    "    cur_save_dir = RES_ROOT/f\"simu_setting{setting.setting}_{c1*1000:.0f}_newinte\"\n",
    "    if c1 in opt_lamNs_fix.keys():\n",
    "        cur_N, cur_lam = opt_lamNs_fix[c1]\n",
    "    else:\n",
    "        cur_N, cur_lam = opt_lamNs_fix[str(c1)]\n",
    "    def _run_fn_test(cur_seed):\n",
    "        from optimization.opt import logger as logger1\n",
    "        logger1.handlers[0].setLevel(logging.WARNING)\n",
    "        torch.set_default_dtype(torch.float64)\n",
    "        f1_name = f\"seed_{cur_seed:.0f}-lam_{cur_lam*1000:.0f}-N_{cur_N:.0f}_fit.pkl\"\n",
    "        res1 = load_pkl(cur_save_dir/f1_name, verbose=False);\n",
    "        res1.basis_mat = torch.tensor(res1.obt_bsp(np.linspace(0, 1, setting.data_gen_params.npts), \n",
    "                                      res1.bsp_params.N, res1.bsp_params.basis_ord)).to(torch.get_default_dtype());\n",
    "        res = res1.hypo_test(Cmat=Cmat, ts=ts, is_simpler=is_simpler, \n",
    "                             hypo_params={\"svdinv_eps_Q\": 1e-7, \"svdinv_eps_Psi\": 1e-7}) \n",
    "    \n",
    "        return res \n",
    "    with Parallel(n_jobs=2) as parallel:\n",
    "        ress = parallel(delayed(_run_fn_test)(cur_seed) for cur_seed in tqdm(range(num_rep1), desc=f\"c1: {c1*1000:.0f}\", total=num_rep1))\n",
    "    ress = np.array(ress);\n",
    "    ress_dict[c1] = ress"
   ]
  },
  {
   "cell_type": "code",
   "execution_count": 132,
   "id": "d3d8dc76-d28c-44a5-9190-1bd0cefe53a9",
   "metadata": {
    "execution": {
     "iopub.execute_input": "2024-04-29T20:41:40.850753Z",
     "iopub.status.busy": "2024-04-29T20:41:40.850121Z",
     "iopub.status.idle": "2024-04-29T20:41:40.904500Z",
     "shell.execute_reply": "2024-04-29T20:41:40.903777Z",
     "shell.execute_reply.started": "2024-04-29T20:41:40.850704Z"
    },
    "tags": []
   },
   "outputs": [
    {
     "data": {
      "text/html": [
       "<div>\n",
       "<style scoped>\n",
       "    .dataframe tbody tr th:only-of-type {\n",
       "        vertical-align: middle;\n",
       "    }\n",
       "\n",
       "    .dataframe tbody tr th {\n",
       "        vertical-align: top;\n",
       "    }\n",
       "\n",
       "    .dataframe thead th {\n",
       "        text-align: right;\n",
       "    }\n",
       "</style>\n",
       "<table border=\"1\" class=\"dataframe\">\n",
       "  <thead>\n",
       "    <tr style=\"text-align: right;\">\n",
       "      <th></th>\n",
       "      <th>pval</th>\n",
       "      <th>T_vs</th>\n",
       "      <th>c</th>\n",
       "    </tr>\n",
       "  </thead>\n",
       "  <tbody>\n",
       "    <tr>\n",
       "      <th>0</th>\n",
       "      <td>0.046</td>\n",
       "      <td>11.778036</td>\n",
       "      <td>0.0</td>\n",
       "    </tr>\n",
       "    <tr>\n",
       "      <th>1</th>\n",
       "      <td>0.833</td>\n",
       "      <td>30.487545</td>\n",
       "      <td>0.1</td>\n",
       "    </tr>\n",
       "    <tr>\n",
       "      <th>2</th>\n",
       "      <td>1.000</td>\n",
       "      <td>85.597567</td>\n",
       "      <td>0.2</td>\n",
       "    </tr>\n",
       "    <tr>\n",
       "      <th>3</th>\n",
       "      <td>1.000</td>\n",
       "      <td>297.703779</td>\n",
       "      <td>0.4</td>\n",
       "    </tr>\n",
       "  </tbody>\n",
       "</table>\n",
       "</div>"
      ],
      "text/plain": [
       "    pval        T_vs    c\n",
       "0  0.046   11.778036  0.0\n",
       "1  0.833   30.487545  0.1\n",
       "2  1.000   85.597567  0.2\n",
       "3  1.000  297.703779  0.4"
      ]
     },
     "execution_count": 132,
     "metadata": {},
     "output_type": "execute_result"
    }
   ],
   "source": [
    "out_res = ddict(list)\n",
    "for c1 in c1s:\n",
    "    ress = ress_dict[c1][:]\n",
    "    pvals = np.array([res[\"pval\"] for res in ress]);\n",
    "    T_vs = np.array([res[\"T_v\"].item() for res in ress]);\n",
    "    kpidx = outlier_det(T_vs, 0.00)\n",
    "    out_res[\"pval\"].append(np.mean(pvals[kpidx]<0.05))\n",
    "    out_res[\"T_vs\"].append(np.mean(T_vs[kpidx]))\n",
    "\n",
    "out_res[\"c\"] = c1s\n",
    "pd.DataFrame(out_res)"
   ]
  },
  {
   "cell_type": "code",
   "execution_count": null,
   "id": "f01a929b-209f-456e-a02d-f2e16b2cc33c",
   "metadata": {},
   "outputs": [],
   "source": []
  }
 ],
 "metadata": {
  "kernelspec": {
   "display_name": "Python 3 (ipykernel)",
   "language": "python",
   "name": "python3"
  },
  "language_info": {
   "codemirror_mode": {
    "name": "ipython",
    "version": 3
   },
   "file_extension": ".py",
   "mimetype": "text/x-python",
   "name": "python",
   "nbconvert_exporter": "python",
   "pygments_lexer": "ipython3",
   "version": "3.9.7"
  },
  "toc": {
   "base_numbering": 1,
   "nav_menu": {},
   "number_sections": true,
   "sideBar": true,
   "skip_h1_title": false,
   "title_cell": "Table of Contents",
   "title_sidebar": "Contents",
   "toc_cell": false,
   "toc_position": {
    "height": "calc(100% - 180px)",
    "left": "10px",
    "top": "150px",
    "width": "165px"
   },
   "toc_section_display": true,
   "toc_window_display": true
  },
  "toc-autonumbering": true
 },
 "nbformat": 4,
 "nbformat_minor": 5
}
